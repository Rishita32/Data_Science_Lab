{
  "cells": [
    {
      "cell_type": "markdown",
      "metadata": {
        "id": "view-in-github",
        "colab_type": "text"
      },
      "source": [
        "<a href=\"https://colab.research.google.com/github/Rishita32/Data_Science_Lab/blob/main/RishitaMote_Exp2.ipynb\" target=\"_parent\"><img src=\"https://colab.research.google.com/assets/colab-badge.svg\" alt=\"Open In Colab\"/></a>"
      ]
    },
    {
      "cell_type": "markdown",
      "metadata": {
        "id": "flNofovmTdP8"
      },
      "source": [
        "#### Name: Rishita Mote\n",
        "#### UID: 2018130029\n",
        "#### Batch B\n",
        "\n",
        "### **Experiment 2**\n",
        "#### Objective: To implement and use Principal Component Analysis using Python Platform. "
      ]
    },
    {
      "cell_type": "code",
      "execution_count": null,
      "metadata": {
        "id": "RGZ289uU64Zb"
      },
      "outputs": [],
      "source": [
        "#importing libraries \n",
        "import pandas as pd\n",
        "import numpy as np\n",
        "import matplotlib.pyplot as plt\n",
        "import seaborn as sns\n",
        "import math"
      ]
    },
    {
      "cell_type": "markdown",
      "metadata": {
        "id": "BVZVbjY4Wmr4"
      },
      "source": [
        "###Load the dataset (Use pandas ) "
      ]
    },
    {
      "cell_type": "code",
      "execution_count": null,
      "metadata": {
        "colab": {
          "base_uri": "https://localhost:8080/"
        },
        "id": "-rZVHivwWZdp",
        "outputId": "4b39f7af-d70b-43be-add1-36a3f6506389"
      },
      "outputs": [
        {
          "output_type": "stream",
          "name": "stdout",
          "text": [
            "Mounted at /content/drive\n"
          ]
        }
      ],
      "source": [
        "# importing dataset\n",
        "from google.colab import drive\n",
        "drive.mount('/content/drive', force_remount=True) \n",
        "dataset=pd.read_csv('drive/MyDrive/Data Science/Lab/student-por.csv')\n",
        "df=pd.DataFrame(dataset)"
      ]
    },
    {
      "cell_type": "code",
      "execution_count": null,
      "metadata": {
        "colab": {
          "base_uri": "https://localhost:8080/"
        },
        "id": "nLhDHCWJW4vh",
        "outputId": "3a8809a1-416d-4d1c-db01-2bf79b50746f"
      },
      "outputs": [
        {
          "output_type": "stream",
          "name": "stdout",
          "text": [
            "<class 'pandas.core.frame.DataFrame'>\n",
            "RangeIndex: 649 entries, 0 to 648\n",
            "Data columns (total 33 columns):\n",
            " #   Column      Non-Null Count  Dtype \n",
            "---  ------      --------------  ----- \n",
            " 0   school      649 non-null    object\n",
            " 1   sex         649 non-null    object\n",
            " 2   age         649 non-null    int64 \n",
            " 3   address     649 non-null    object\n",
            " 4   famsize     649 non-null    object\n",
            " 5   Pstatus     649 non-null    object\n",
            " 6   Medu        649 non-null    int64 \n",
            " 7   Fedu        649 non-null    int64 \n",
            " 8   Mjob        649 non-null    object\n",
            " 9   Fjob        649 non-null    object\n",
            " 10  reason      649 non-null    object\n",
            " 11  guardian    649 non-null    object\n",
            " 12  traveltime  649 non-null    int64 \n",
            " 13  studytime   649 non-null    int64 \n",
            " 14  failures    649 non-null    int64 \n",
            " 15  schoolsup   649 non-null    object\n",
            " 16  famsup      649 non-null    object\n",
            " 17  paid        649 non-null    object\n",
            " 18  activities  649 non-null    object\n",
            " 19  nursery     649 non-null    object\n",
            " 20  higher      649 non-null    object\n",
            " 21  internet    649 non-null    object\n",
            " 22  romantic    649 non-null    object\n",
            " 23  famrel      649 non-null    int64 \n",
            " 24  freetime    649 non-null    int64 \n",
            " 25  goout       649 non-null    int64 \n",
            " 26  Dalc        649 non-null    int64 \n",
            " 27  Walc        649 non-null    int64 \n",
            " 28  health      649 non-null    int64 \n",
            " 29  absences    649 non-null    int64 \n",
            " 30  G1          649 non-null    int64 \n",
            " 31  G2          649 non-null    int64 \n",
            " 32  G3          649 non-null    int64 \n",
            "dtypes: int64(16), object(17)\n",
            "memory usage: 167.4+ KB\n"
          ]
        }
      ],
      "source": [
        "df.info()\n",
        "# dataset has 649 enteries. "
      ]
    },
    {
      "cell_type": "code",
      "execution_count": null,
      "metadata": {
        "colab": {
          "base_uri": "https://localhost:8080/",
          "height": 364
        },
        "id": "YW0dJQKEZP_g",
        "outputId": "e6335f3f-2b89-4343-8ff7-cd4a01db69dd"
      },
      "outputs": [
        {
          "output_type": "execute_result",
          "data": {
            "text/html": [
              "\n",
              "  <div id=\"df-7f035d2b-ce50-41d8-8116-47510c207982\">\n",
              "    <div class=\"colab-df-container\">\n",
              "      <div>\n",
              "<style scoped>\n",
              "    .dataframe tbody tr th:only-of-type {\n",
              "        vertical-align: middle;\n",
              "    }\n",
              "\n",
              "    .dataframe tbody tr th {\n",
              "        vertical-align: top;\n",
              "    }\n",
              "\n",
              "    .dataframe thead th {\n",
              "        text-align: right;\n",
              "    }\n",
              "</style>\n",
              "<table border=\"1\" class=\"dataframe\">\n",
              "  <thead>\n",
              "    <tr style=\"text-align: right;\">\n",
              "      <th></th>\n",
              "      <th>age</th>\n",
              "      <th>Medu</th>\n",
              "      <th>Fedu</th>\n",
              "      <th>traveltime</th>\n",
              "      <th>studytime</th>\n",
              "      <th>failures</th>\n",
              "      <th>famrel</th>\n",
              "      <th>freetime</th>\n",
              "      <th>goout</th>\n",
              "      <th>Dalc</th>\n",
              "      <th>Walc</th>\n",
              "      <th>health</th>\n",
              "      <th>absences</th>\n",
              "      <th>G1</th>\n",
              "      <th>G2</th>\n",
              "      <th>G3</th>\n",
              "    </tr>\n",
              "  </thead>\n",
              "  <tbody>\n",
              "    <tr>\n",
              "      <th>count</th>\n",
              "      <td>649.000000</td>\n",
              "      <td>649.000000</td>\n",
              "      <td>649.000000</td>\n",
              "      <td>649.000000</td>\n",
              "      <td>649.000000</td>\n",
              "      <td>649.000000</td>\n",
              "      <td>649.000000</td>\n",
              "      <td>649.000000</td>\n",
              "      <td>649.000000</td>\n",
              "      <td>649.000000</td>\n",
              "      <td>649.000000</td>\n",
              "      <td>649.000000</td>\n",
              "      <td>649.000000</td>\n",
              "      <td>649.000000</td>\n",
              "      <td>649.000000</td>\n",
              "      <td>649.000000</td>\n",
              "    </tr>\n",
              "    <tr>\n",
              "      <th>mean</th>\n",
              "      <td>16.744222</td>\n",
              "      <td>2.514638</td>\n",
              "      <td>2.306626</td>\n",
              "      <td>1.568567</td>\n",
              "      <td>1.930663</td>\n",
              "      <td>0.221880</td>\n",
              "      <td>3.930663</td>\n",
              "      <td>3.180277</td>\n",
              "      <td>3.184900</td>\n",
              "      <td>1.502311</td>\n",
              "      <td>2.280431</td>\n",
              "      <td>3.536210</td>\n",
              "      <td>3.659476</td>\n",
              "      <td>11.399076</td>\n",
              "      <td>11.570108</td>\n",
              "      <td>11.906009</td>\n",
              "    </tr>\n",
              "    <tr>\n",
              "      <th>std</th>\n",
              "      <td>1.218138</td>\n",
              "      <td>1.134552</td>\n",
              "      <td>1.099931</td>\n",
              "      <td>0.748660</td>\n",
              "      <td>0.829510</td>\n",
              "      <td>0.593235</td>\n",
              "      <td>0.955717</td>\n",
              "      <td>1.051093</td>\n",
              "      <td>1.175766</td>\n",
              "      <td>0.924834</td>\n",
              "      <td>1.284380</td>\n",
              "      <td>1.446259</td>\n",
              "      <td>4.640759</td>\n",
              "      <td>2.745265</td>\n",
              "      <td>2.913639</td>\n",
              "      <td>3.230656</td>\n",
              "    </tr>\n",
              "    <tr>\n",
              "      <th>min</th>\n",
              "      <td>15.000000</td>\n",
              "      <td>0.000000</td>\n",
              "      <td>0.000000</td>\n",
              "      <td>1.000000</td>\n",
              "      <td>1.000000</td>\n",
              "      <td>0.000000</td>\n",
              "      <td>1.000000</td>\n",
              "      <td>1.000000</td>\n",
              "      <td>1.000000</td>\n",
              "      <td>1.000000</td>\n",
              "      <td>1.000000</td>\n",
              "      <td>1.000000</td>\n",
              "      <td>0.000000</td>\n",
              "      <td>0.000000</td>\n",
              "      <td>0.000000</td>\n",
              "      <td>0.000000</td>\n",
              "    </tr>\n",
              "    <tr>\n",
              "      <th>25%</th>\n",
              "      <td>16.000000</td>\n",
              "      <td>2.000000</td>\n",
              "      <td>1.000000</td>\n",
              "      <td>1.000000</td>\n",
              "      <td>1.000000</td>\n",
              "      <td>0.000000</td>\n",
              "      <td>4.000000</td>\n",
              "      <td>3.000000</td>\n",
              "      <td>2.000000</td>\n",
              "      <td>1.000000</td>\n",
              "      <td>1.000000</td>\n",
              "      <td>2.000000</td>\n",
              "      <td>0.000000</td>\n",
              "      <td>10.000000</td>\n",
              "      <td>10.000000</td>\n",
              "      <td>10.000000</td>\n",
              "    </tr>\n",
              "    <tr>\n",
              "      <th>50%</th>\n",
              "      <td>17.000000</td>\n",
              "      <td>2.000000</td>\n",
              "      <td>2.000000</td>\n",
              "      <td>1.000000</td>\n",
              "      <td>2.000000</td>\n",
              "      <td>0.000000</td>\n",
              "      <td>4.000000</td>\n",
              "      <td>3.000000</td>\n",
              "      <td>3.000000</td>\n",
              "      <td>1.000000</td>\n",
              "      <td>2.000000</td>\n",
              "      <td>4.000000</td>\n",
              "      <td>2.000000</td>\n",
              "      <td>11.000000</td>\n",
              "      <td>11.000000</td>\n",
              "      <td>12.000000</td>\n",
              "    </tr>\n",
              "    <tr>\n",
              "      <th>75%</th>\n",
              "      <td>18.000000</td>\n",
              "      <td>4.000000</td>\n",
              "      <td>3.000000</td>\n",
              "      <td>2.000000</td>\n",
              "      <td>2.000000</td>\n",
              "      <td>0.000000</td>\n",
              "      <td>5.000000</td>\n",
              "      <td>4.000000</td>\n",
              "      <td>4.000000</td>\n",
              "      <td>2.000000</td>\n",
              "      <td>3.000000</td>\n",
              "      <td>5.000000</td>\n",
              "      <td>6.000000</td>\n",
              "      <td>13.000000</td>\n",
              "      <td>13.000000</td>\n",
              "      <td>14.000000</td>\n",
              "    </tr>\n",
              "    <tr>\n",
              "      <th>max</th>\n",
              "      <td>22.000000</td>\n",
              "      <td>4.000000</td>\n",
              "      <td>4.000000</td>\n",
              "      <td>4.000000</td>\n",
              "      <td>4.000000</td>\n",
              "      <td>3.000000</td>\n",
              "      <td>5.000000</td>\n",
              "      <td>5.000000</td>\n",
              "      <td>5.000000</td>\n",
              "      <td>5.000000</td>\n",
              "      <td>5.000000</td>\n",
              "      <td>5.000000</td>\n",
              "      <td>32.000000</td>\n",
              "      <td>19.000000</td>\n",
              "      <td>19.000000</td>\n",
              "      <td>19.000000</td>\n",
              "    </tr>\n",
              "  </tbody>\n",
              "</table>\n",
              "</div>\n",
              "      <button class=\"colab-df-convert\" onclick=\"convertToInteractive('df-7f035d2b-ce50-41d8-8116-47510c207982')\"\n",
              "              title=\"Convert this dataframe to an interactive table.\"\n",
              "              style=\"display:none;\">\n",
              "        \n",
              "  <svg xmlns=\"http://www.w3.org/2000/svg\" height=\"24px\"viewBox=\"0 0 24 24\"\n",
              "       width=\"24px\">\n",
              "    <path d=\"M0 0h24v24H0V0z\" fill=\"none\"/>\n",
              "    <path d=\"M18.56 5.44l.94 2.06.94-2.06 2.06-.94-2.06-.94-.94-2.06-.94 2.06-2.06.94zm-11 1L8.5 8.5l.94-2.06 2.06-.94-2.06-.94L8.5 2.5l-.94 2.06-2.06.94zm10 10l.94 2.06.94-2.06 2.06-.94-2.06-.94-.94-2.06-.94 2.06-2.06.94z\"/><path d=\"M17.41 7.96l-1.37-1.37c-.4-.4-.92-.59-1.43-.59-.52 0-1.04.2-1.43.59L10.3 9.45l-7.72 7.72c-.78.78-.78 2.05 0 2.83L4 21.41c.39.39.9.59 1.41.59.51 0 1.02-.2 1.41-.59l7.78-7.78 2.81-2.81c.8-.78.8-2.07 0-2.86zM5.41 20L4 18.59l7.72-7.72 1.47 1.35L5.41 20z\"/>\n",
              "  </svg>\n",
              "      </button>\n",
              "      \n",
              "  <style>\n",
              "    .colab-df-container {\n",
              "      display:flex;\n",
              "      flex-wrap:wrap;\n",
              "      gap: 12px;\n",
              "    }\n",
              "\n",
              "    .colab-df-convert {\n",
              "      background-color: #E8F0FE;\n",
              "      border: none;\n",
              "      border-radius: 50%;\n",
              "      cursor: pointer;\n",
              "      display: none;\n",
              "      fill: #1967D2;\n",
              "      height: 32px;\n",
              "      padding: 0 0 0 0;\n",
              "      width: 32px;\n",
              "    }\n",
              "\n",
              "    .colab-df-convert:hover {\n",
              "      background-color: #E2EBFA;\n",
              "      box-shadow: 0px 1px 2px rgba(60, 64, 67, 0.3), 0px 1px 3px 1px rgba(60, 64, 67, 0.15);\n",
              "      fill: #174EA6;\n",
              "    }\n",
              "\n",
              "    [theme=dark] .colab-df-convert {\n",
              "      background-color: #3B4455;\n",
              "      fill: #D2E3FC;\n",
              "    }\n",
              "\n",
              "    [theme=dark] .colab-df-convert:hover {\n",
              "      background-color: #434B5C;\n",
              "      box-shadow: 0px 1px 3px 1px rgba(0, 0, 0, 0.15);\n",
              "      filter: drop-shadow(0px 1px 2px rgba(0, 0, 0, 0.3));\n",
              "      fill: #FFFFFF;\n",
              "    }\n",
              "  </style>\n",
              "\n",
              "      <script>\n",
              "        const buttonEl =\n",
              "          document.querySelector('#df-7f035d2b-ce50-41d8-8116-47510c207982 button.colab-df-convert');\n",
              "        buttonEl.style.display =\n",
              "          google.colab.kernel.accessAllowed ? 'block' : 'none';\n",
              "\n",
              "        async function convertToInteractive(key) {\n",
              "          const element = document.querySelector('#df-7f035d2b-ce50-41d8-8116-47510c207982');\n",
              "          const dataTable =\n",
              "            await google.colab.kernel.invokeFunction('convertToInteractive',\n",
              "                                                     [key], {});\n",
              "          if (!dataTable) return;\n",
              "\n",
              "          const docLinkHtml = 'Like what you see? Visit the ' +\n",
              "            '<a target=\"_blank\" href=https://colab.research.google.com/notebooks/data_table.ipynb>data table notebook</a>'\n",
              "            + ' to learn more about interactive tables.';\n",
              "          element.innerHTML = '';\n",
              "          dataTable['output_type'] = 'display_data';\n",
              "          await google.colab.output.renderOutput(dataTable, element);\n",
              "          const docLink = document.createElement('div');\n",
              "          docLink.innerHTML = docLinkHtml;\n",
              "          element.appendChild(docLink);\n",
              "        }\n",
              "      </script>\n",
              "    </div>\n",
              "  </div>\n",
              "  "
            ],
            "text/plain": [
              "              age        Medu        Fedu  ...          G1          G2          G3\n",
              "count  649.000000  649.000000  649.000000  ...  649.000000  649.000000  649.000000\n",
              "mean    16.744222    2.514638    2.306626  ...   11.399076   11.570108   11.906009\n",
              "std      1.218138    1.134552    1.099931  ...    2.745265    2.913639    3.230656\n",
              "min     15.000000    0.000000    0.000000  ...    0.000000    0.000000    0.000000\n",
              "25%     16.000000    2.000000    1.000000  ...   10.000000   10.000000   10.000000\n",
              "50%     17.000000    2.000000    2.000000  ...   11.000000   11.000000   12.000000\n",
              "75%     18.000000    4.000000    3.000000  ...   13.000000   13.000000   14.000000\n",
              "max     22.000000    4.000000    4.000000  ...   19.000000   19.000000   19.000000\n",
              "\n",
              "[8 rows x 16 columns]"
            ]
          },
          "metadata": {},
          "execution_count": 1024
        }
      ],
      "source": [
        "df.describe()"
      ]
    },
    {
      "cell_type": "code",
      "execution_count": null,
      "metadata": {
        "colab": {
          "base_uri": "https://localhost:8080/",
          "height": 260
        },
        "id": "cx3oiioUZe6p",
        "outputId": "b50da2df-b9c2-4ac3-df54-0e7afac76ae6"
      },
      "outputs": [
        {
          "output_type": "stream",
          "name": "stdout",
          "text": [
            "Number of Numerical variables are:  16\n",
            "Numerical features are:  ['age', 'Medu', 'Fedu', 'traveltime', 'studytime', 'failures', 'famrel', 'freetime', 'goout', 'Dalc', 'Walc', 'health', 'absences', 'G1', 'G2', 'G3']\n"
          ]
        },
        {
          "output_type": "execute_result",
          "data": {
            "text/html": [
              "\n",
              "  <div id=\"df-28624455-a606-475e-b236-faf5307e509b\">\n",
              "    <div class=\"colab-df-container\">\n",
              "      <div>\n",
              "<style scoped>\n",
              "    .dataframe tbody tr th:only-of-type {\n",
              "        vertical-align: middle;\n",
              "    }\n",
              "\n",
              "    .dataframe tbody tr th {\n",
              "        vertical-align: top;\n",
              "    }\n",
              "\n",
              "    .dataframe thead th {\n",
              "        text-align: right;\n",
              "    }\n",
              "</style>\n",
              "<table border=\"1\" class=\"dataframe\">\n",
              "  <thead>\n",
              "    <tr style=\"text-align: right;\">\n",
              "      <th></th>\n",
              "      <th>age</th>\n",
              "      <th>Medu</th>\n",
              "      <th>Fedu</th>\n",
              "      <th>traveltime</th>\n",
              "      <th>studytime</th>\n",
              "      <th>failures</th>\n",
              "      <th>famrel</th>\n",
              "      <th>freetime</th>\n",
              "      <th>goout</th>\n",
              "      <th>Dalc</th>\n",
              "      <th>Walc</th>\n",
              "      <th>health</th>\n",
              "      <th>absences</th>\n",
              "      <th>G1</th>\n",
              "      <th>G2</th>\n",
              "      <th>G3</th>\n",
              "    </tr>\n",
              "  </thead>\n",
              "  <tbody>\n",
              "    <tr>\n",
              "      <th>0</th>\n",
              "      <td>18</td>\n",
              "      <td>4</td>\n",
              "      <td>4</td>\n",
              "      <td>2</td>\n",
              "      <td>2</td>\n",
              "      <td>0</td>\n",
              "      <td>4</td>\n",
              "      <td>3</td>\n",
              "      <td>4</td>\n",
              "      <td>1</td>\n",
              "      <td>1</td>\n",
              "      <td>3</td>\n",
              "      <td>4</td>\n",
              "      <td>0</td>\n",
              "      <td>11</td>\n",
              "      <td>11</td>\n",
              "    </tr>\n",
              "    <tr>\n",
              "      <th>1</th>\n",
              "      <td>17</td>\n",
              "      <td>1</td>\n",
              "      <td>1</td>\n",
              "      <td>1</td>\n",
              "      <td>2</td>\n",
              "      <td>0</td>\n",
              "      <td>5</td>\n",
              "      <td>3</td>\n",
              "      <td>3</td>\n",
              "      <td>1</td>\n",
              "      <td>1</td>\n",
              "      <td>3</td>\n",
              "      <td>2</td>\n",
              "      <td>9</td>\n",
              "      <td>11</td>\n",
              "      <td>11</td>\n",
              "    </tr>\n",
              "    <tr>\n",
              "      <th>2</th>\n",
              "      <td>15</td>\n",
              "      <td>1</td>\n",
              "      <td>1</td>\n",
              "      <td>1</td>\n",
              "      <td>2</td>\n",
              "      <td>0</td>\n",
              "      <td>4</td>\n",
              "      <td>3</td>\n",
              "      <td>2</td>\n",
              "      <td>2</td>\n",
              "      <td>3</td>\n",
              "      <td>3</td>\n",
              "      <td>6</td>\n",
              "      <td>12</td>\n",
              "      <td>13</td>\n",
              "      <td>12</td>\n",
              "    </tr>\n",
              "    <tr>\n",
              "      <th>3</th>\n",
              "      <td>15</td>\n",
              "      <td>4</td>\n",
              "      <td>2</td>\n",
              "      <td>1</td>\n",
              "      <td>3</td>\n",
              "      <td>0</td>\n",
              "      <td>3</td>\n",
              "      <td>2</td>\n",
              "      <td>2</td>\n",
              "      <td>1</td>\n",
              "      <td>1</td>\n",
              "      <td>5</td>\n",
              "      <td>0</td>\n",
              "      <td>14</td>\n",
              "      <td>14</td>\n",
              "      <td>14</td>\n",
              "    </tr>\n",
              "    <tr>\n",
              "      <th>4</th>\n",
              "      <td>16</td>\n",
              "      <td>3</td>\n",
              "      <td>3</td>\n",
              "      <td>1</td>\n",
              "      <td>2</td>\n",
              "      <td>0</td>\n",
              "      <td>4</td>\n",
              "      <td>3</td>\n",
              "      <td>2</td>\n",
              "      <td>1</td>\n",
              "      <td>2</td>\n",
              "      <td>5</td>\n",
              "      <td>0</td>\n",
              "      <td>11</td>\n",
              "      <td>13</td>\n",
              "      <td>13</td>\n",
              "    </tr>\n",
              "  </tbody>\n",
              "</table>\n",
              "</div>\n",
              "      <button class=\"colab-df-convert\" onclick=\"convertToInteractive('df-28624455-a606-475e-b236-faf5307e509b')\"\n",
              "              title=\"Convert this dataframe to an interactive table.\"\n",
              "              style=\"display:none;\">\n",
              "        \n",
              "  <svg xmlns=\"http://www.w3.org/2000/svg\" height=\"24px\"viewBox=\"0 0 24 24\"\n",
              "       width=\"24px\">\n",
              "    <path d=\"M0 0h24v24H0V0z\" fill=\"none\"/>\n",
              "    <path d=\"M18.56 5.44l.94 2.06.94-2.06 2.06-.94-2.06-.94-.94-2.06-.94 2.06-2.06.94zm-11 1L8.5 8.5l.94-2.06 2.06-.94-2.06-.94L8.5 2.5l-.94 2.06-2.06.94zm10 10l.94 2.06.94-2.06 2.06-.94-2.06-.94-.94-2.06-.94 2.06-2.06.94z\"/><path d=\"M17.41 7.96l-1.37-1.37c-.4-.4-.92-.59-1.43-.59-.52 0-1.04.2-1.43.59L10.3 9.45l-7.72 7.72c-.78.78-.78 2.05 0 2.83L4 21.41c.39.39.9.59 1.41.59.51 0 1.02-.2 1.41-.59l7.78-7.78 2.81-2.81c.8-.78.8-2.07 0-2.86zM5.41 20L4 18.59l7.72-7.72 1.47 1.35L5.41 20z\"/>\n",
              "  </svg>\n",
              "      </button>\n",
              "      \n",
              "  <style>\n",
              "    .colab-df-container {\n",
              "      display:flex;\n",
              "      flex-wrap:wrap;\n",
              "      gap: 12px;\n",
              "    }\n",
              "\n",
              "    .colab-df-convert {\n",
              "      background-color: #E8F0FE;\n",
              "      border: none;\n",
              "      border-radius: 50%;\n",
              "      cursor: pointer;\n",
              "      display: none;\n",
              "      fill: #1967D2;\n",
              "      height: 32px;\n",
              "      padding: 0 0 0 0;\n",
              "      width: 32px;\n",
              "    }\n",
              "\n",
              "    .colab-df-convert:hover {\n",
              "      background-color: #E2EBFA;\n",
              "      box-shadow: 0px 1px 2px rgba(60, 64, 67, 0.3), 0px 1px 3px 1px rgba(60, 64, 67, 0.15);\n",
              "      fill: #174EA6;\n",
              "    }\n",
              "\n",
              "    [theme=dark] .colab-df-convert {\n",
              "      background-color: #3B4455;\n",
              "      fill: #D2E3FC;\n",
              "    }\n",
              "\n",
              "    [theme=dark] .colab-df-convert:hover {\n",
              "      background-color: #434B5C;\n",
              "      box-shadow: 0px 1px 3px 1px rgba(0, 0, 0, 0.15);\n",
              "      filter: drop-shadow(0px 1px 2px rgba(0, 0, 0, 0.3));\n",
              "      fill: #FFFFFF;\n",
              "    }\n",
              "  </style>\n",
              "\n",
              "      <script>\n",
              "        const buttonEl =\n",
              "          document.querySelector('#df-28624455-a606-475e-b236-faf5307e509b button.colab-df-convert');\n",
              "        buttonEl.style.display =\n",
              "          google.colab.kernel.accessAllowed ? 'block' : 'none';\n",
              "\n",
              "        async function convertToInteractive(key) {\n",
              "          const element = document.querySelector('#df-28624455-a606-475e-b236-faf5307e509b');\n",
              "          const dataTable =\n",
              "            await google.colab.kernel.invokeFunction('convertToInteractive',\n",
              "                                                     [key], {});\n",
              "          if (!dataTable) return;\n",
              "\n",
              "          const docLinkHtml = 'Like what you see? Visit the ' +\n",
              "            '<a target=\"_blank\" href=https://colab.research.google.com/notebooks/data_table.ipynb>data table notebook</a>'\n",
              "            + ' to learn more about interactive tables.';\n",
              "          element.innerHTML = '';\n",
              "          dataTable['output_type'] = 'display_data';\n",
              "          await google.colab.output.renderOutput(dataTable, element);\n",
              "          const docLink = document.createElement('div');\n",
              "          docLink.innerHTML = docLinkHtml;\n",
              "          element.appendChild(docLink);\n",
              "        }\n",
              "      </script>\n",
              "    </div>\n",
              "  </div>\n",
              "  "
            ],
            "text/plain": [
              "   age  Medu  Fedu  traveltime  studytime  ...  health  absences  G1  G2  G3\n",
              "0   18     4     4           2          2  ...       3         4   0  11  11\n",
              "1   17     1     1           1          2  ...       3         2   9  11  11\n",
              "2   15     1     1           1          2  ...       3         6  12  13  12\n",
              "3   15     4     2           1          3  ...       5         0  14  14  14\n",
              "4   16     3     3           1          2  ...       5         0  11  13  13\n",
              "\n",
              "[5 rows x 16 columns]"
            ]
          },
          "metadata": {},
          "execution_count": 1025
        }
      ],
      "source": [
        "#finding numerical features from the dataset\n",
        "numerical_features = [features for features in df.columns if df[features].dtypes != 'O']\n",
        "print('Number of Numerical variables are: ', len(numerical_features))\n",
        "print('Numerical features are: ', numerical_features)\n",
        "df[numerical_features].head()"
      ]
    },
    {
      "cell_type": "code",
      "execution_count": null,
      "metadata": {
        "colab": {
          "base_uri": "https://localhost:8080/"
        },
        "id": "uDa5FHjOcO9B",
        "outputId": "477d8c26-76fd-4f35-970d-db05854299aa"
      },
      "outputs": [
        {
          "output_type": "stream",
          "name": "stdout",
          "text": [
            "Now categorical variables are: ['school', 'sex', 'address', 'famsize', 'Pstatus', 'Mjob', 'Fjob', 'reason', 'guardian', 'schoolsup', 'famsup', 'paid', 'activities', 'nursery', 'higher', 'internet', 'romantic']\n",
            "number of categorical variables are: ['school', 'sex', 'address', 'famsize', 'Pstatus', 'Mjob', 'Fjob', 'reason', 'guardian', 'schoolsup', 'famsup', 'paid', 'activities', 'nursery', 'higher', 'internet', 'romantic']\n"
          ]
        }
      ],
      "source": [
        "#finding categorical features from the dataset\n",
        "categorical_features = [features for features in df.columns if df[features].dtypes =='O']\n",
        "print(f\"Now categorical variables are: {categorical_features}\")\n",
        "print(f\"number of categorical variables are: {categorical_features}\")"
      ]
    },
    {
      "cell_type": "markdown",
      "source": [
        "###Data Preprocessing (Handling NA values)"
      ],
      "metadata": {
        "id": "P_p8grd7HfkK"
      }
    },
    {
      "cell_type": "code",
      "source": [
        "# check missing values in variables\n",
        "df.isnull().sum()"
      ],
      "metadata": {
        "colab": {
          "base_uri": "https://localhost:8080/"
        },
        "id": "gle3d2HHHLAk",
        "outputId": "dadd227e-c57d-4a27-dccc-47bd5ae21b3d"
      },
      "execution_count": null,
      "outputs": [
        {
          "output_type": "execute_result",
          "data": {
            "text/plain": [
              "school        0\n",
              "sex           0\n",
              "age           0\n",
              "address       0\n",
              "famsize       0\n",
              "Pstatus       0\n",
              "Medu          0\n",
              "Fedu          0\n",
              "Mjob          0\n",
              "Fjob          0\n",
              "reason        0\n",
              "guardian      0\n",
              "traveltime    0\n",
              "studytime     0\n",
              "failures      0\n",
              "schoolsup     0\n",
              "famsup        0\n",
              "paid          0\n",
              "activities    0\n",
              "nursery       0\n",
              "higher        0\n",
              "internet      0\n",
              "romantic      0\n",
              "famrel        0\n",
              "freetime      0\n",
              "goout         0\n",
              "Dalc          0\n",
              "Walc          0\n",
              "health        0\n",
              "absences      0\n",
              "G1            0\n",
              "G2            0\n",
              "G3            0\n",
              "dtype: int64"
            ]
          },
          "metadata": {},
          "execution_count": 1027
        }
      ]
    },
    {
      "cell_type": "code",
      "source": [
        "df.isnull().any()\n",
        "\n",
        "#Observation: There are no null values "
      ],
      "metadata": {
        "colab": {
          "base_uri": "https://localhost:8080/"
        },
        "id": "9WPdk-N1HpG4",
        "outputId": "cba6f089-b5d9-4233-b86b-a6ed325ca8b5"
      },
      "execution_count": null,
      "outputs": [
        {
          "output_type": "execute_result",
          "data": {
            "text/plain": [
              "school        False\n",
              "sex           False\n",
              "age           False\n",
              "address       False\n",
              "famsize       False\n",
              "Pstatus       False\n",
              "Medu          False\n",
              "Fedu          False\n",
              "Mjob          False\n",
              "Fjob          False\n",
              "reason        False\n",
              "guardian      False\n",
              "traveltime    False\n",
              "studytime     False\n",
              "failures      False\n",
              "schoolsup     False\n",
              "famsup        False\n",
              "paid          False\n",
              "activities    False\n",
              "nursery       False\n",
              "higher        False\n",
              "internet      False\n",
              "romantic      False\n",
              "famrel        False\n",
              "freetime      False\n",
              "goout         False\n",
              "Dalc          False\n",
              "Walc          False\n",
              "health        False\n",
              "absences      False\n",
              "G1            False\n",
              "G2            False\n",
              "G3            False\n",
              "dtype: bool"
            ]
          },
          "metadata": {},
          "execution_count": 1028
        }
      ]
    },
    {
      "cell_type": "markdown",
      "metadata": {
        "id": "Td_L_2S6dLli"
      },
      "source": [
        "### Exploratory Data Analysis (understanding the relationships between the variables with help of plot, scatter-plot, energy-plot etc) Use matplotlib (What variables to include, sample size)"
      ]
    },
    {
      "cell_type": "code",
      "source": [
        "# correlation matrix\n",
        "%matplotlib inline\n",
        "plt.figure(figsize = (16,10))\n",
        "sns.heatmap(df.corr(), annot=True)\n"
      ],
      "metadata": {
        "colab": {
          "base_uri": "https://localhost:8080/",
          "height": 654
        },
        "id": "69a9ePkpILnh",
        "outputId": "977e0d3e-95a2-4699-bbb0-ad4632ed90d4"
      },
      "execution_count": null,
      "outputs": [
        {
          "output_type": "execute_result",
          "data": {
            "text/plain": [
              "<matplotlib.axes._subplots.AxesSubplot at 0x7f5679491150>"
            ]
          },
          "metadata": {},
          "execution_count": 1029
        },
        {
          "output_type": "display_data",
          "data": {
            "image/png": "[encoded data removed]",
            "text/plain": [
              "<Figure size 1152x720 with 2 Axes>"
            ]
          },
          "metadata": {
            "needs_background": "light"
          }
        }
      ]
    },
    {
      "cell_type": "code",
      "source": [
        "# observing how each numerical data correlates with target variable G3\n",
        "corr_matrix = df.corr()\n",
        "corr_matrix[\"G3\"].sort_values(ascending=False)\n",
        "\n",
        "#Observation: G3 has correlation not only with G1 and G2 but also with studytime, failures, Dalc, Walc, traveltime, freetime, age, Medu (mother's education) and Fedu (father's education)"
      ],
      "metadata": {
        "colab": {
          "base_uri": "https://localhost:8080/"
        },
        "id": "iNdfZWUkJEsD",
        "outputId": "a2feafa1-a9b3-474f-8bda-f7e43d28365a"
      },
      "execution_count": null,
      "outputs": [
        {
          "output_type": "execute_result",
          "data": {
            "text/plain": [
              "G3            1.000000\n",
              "G2            0.918548\n",
              "G1            0.826387\n",
              "studytime     0.249789\n",
              "Medu          0.240151\n",
              "Fedu          0.211800\n",
              "famrel        0.063361\n",
              "goout        -0.087641\n",
              "absences     -0.091379\n",
              "health       -0.098851\n",
              "age          -0.106505\n",
              "freetime     -0.122705\n",
              "traveltime   -0.127173\n",
              "Walc         -0.176619\n",
              "Dalc         -0.204719\n",
              "failures     -0.393316\n",
              "Name: G3, dtype: float64"
            ]
          },
          "metadata": {},
          "execution_count": 1030
        }
      ]
    },
    {
      "cell_type": "code",
      "source": [
        "df=df.drop(['famrel', 'goout', 'health', 'age', 'absences'], axis=1)"
      ],
      "metadata": {
        "id": "o3xbt7aA6nrr"
      },
      "execution_count": null,
      "outputs": []
    },
    {
      "cell_type": "code",
      "source": [
        "# comparing the impact of each categorical feature with G3\n",
        "# 1. sex and G3\n",
        "sns.boxplot(x=\"sex\", y=\"G3\", data=df)\n",
        "\n",
        "#Observation: sex have impact on grades"
      ],
      "metadata": {
        "colab": {
          "base_uri": "https://localhost:8080/",
          "height": 296
        },
        "id": "nLbUZQ2hJgth",
        "outputId": "e1e9ffb0-4122-4070-dba6-74f33e6f2031"
      },
      "execution_count": null,
      "outputs": [
        {
          "output_type": "execute_result",
          "data": {
            "text/plain": [
              "<matplotlib.axes._subplots.AxesSubplot at 0x7f5678a4a8d0>"
            ]
          },
          "metadata": {},
          "execution_count": 1032
        },
        {
          "output_type": "display_data",
          "data": {
            "image/png": "[encoded data removed]",
            "text/plain": [
              "<Figure size 432x288 with 1 Axes>"
            ]
          },
          "metadata": {
            "needs_background": "light"
          }
        }
      ]
    },
    {
      "cell_type": "code",
      "source": [
        "#2. school and G3\n",
        "sns.boxplot(x=\"school\", y=\"G3\", data=df)\n",
        "#Observation: school impacts on grade\n"
      ],
      "metadata": {
        "colab": {
          "base_uri": "https://localhost:8080/",
          "height": 296
        },
        "id": "1wecCaOzOnp1",
        "outputId": "f9bea21f-73e7-4a67-86ab-790f6fed635b"
      },
      "execution_count": null,
      "outputs": [
        {
          "output_type": "execute_result",
          "data": {
            "text/plain": [
              "<matplotlib.axes._subplots.AxesSubplot at 0x7f567864c550>"
            ]
          },
          "metadata": {},
          "execution_count": 1033
        },
        {
          "output_type": "display_data",
          "data": {
            "image/png": "[encoded data removed]",
            "text/plain": [
              "<Figure size 432x288 with 1 Axes>"
            ]
          },
          "metadata": {
            "needs_background": "light"
          }
        }
      ]
    },
    {
      "cell_type": "code",
      "source": [
        "#3. parent's job and G3\n",
        "sns.boxplot(x=\"Mjob\", y=\"G3\", data=df)\n",
        "sns.boxplot(x=\"Fjob\", y=\"G3\", data=df)\n",
        "#Observation: Job has an impact on G3"
      ],
      "metadata": {
        "colab": {
          "base_uri": "https://localhost:8080/",
          "height": 297
        },
        "id": "d0hMzJs6c-jW",
        "outputId": "4e8c1b08-7404-4647-cf34-00802b0f042b"
      },
      "execution_count": null,
      "outputs": [
        {
          "output_type": "execute_result",
          "data": {
            "text/plain": [
              "<matplotlib.axes._subplots.AxesSubplot at 0x7f56785deed0>"
            ]
          },
          "metadata": {},
          "execution_count": 1034
        },
        {
          "output_type": "display_data",
          "data": {
            "image/png": "[encoded data removed]",
            "text/plain": [
              "<Figure size 432x288 with 1 Axes>"
            ]
          },
          "metadata": {
            "needs_background": "light"
          }
        }
      ]
    },
    {
      "cell_type": "code",
      "source": [
        "#4. Family size and G3\n",
        "sns.boxplot(x=\"famsize\", y=\"G3\", data=df)\n",
        "# Observation: Fam size has no impact on G3"
      ],
      "metadata": {
        "colab": {
          "base_uri": "https://localhost:8080/",
          "height": 296
        },
        "id": "bH6KKJZ8djzr",
        "outputId": "5fc853f0-64d3-40f8-d9af-f76d577d07f2"
      },
      "execution_count": null,
      "outputs": [
        {
          "output_type": "execute_result",
          "data": {
            "text/plain": [
              "<matplotlib.axes._subplots.AxesSubplot at 0x7f56784a43d0>"
            ]
          },
          "metadata": {},
          "execution_count": 1035
        },
        {
          "output_type": "display_data",
          "data": {
            "image/png": "[encoded data removed]",
            "text/plain": [
              "<Figure size 432x288 with 1 Axes>"
            ]
          },
          "metadata": {
            "needs_background": "light"
          }
        }
      ]
    },
    {
      "cell_type": "code",
      "source": [
        "#5. comparing reason and G3\n",
        "sns.boxplot(x=\"reason\", y=\"G3\", data=df)\n",
        "\n",
        "# Observation: Reason has an impact on G3"
      ],
      "metadata": {
        "colab": {
          "base_uri": "https://localhost:8080/",
          "height": 296
        },
        "id": "sDWZJf7eeVrp",
        "outputId": "94553243-277a-4b1e-c85b-20c0a78e3b04"
      },
      "execution_count": null,
      "outputs": [
        {
          "output_type": "execute_result",
          "data": {
            "text/plain": [
              "<matplotlib.axes._subplots.AxesSubplot at 0x7f5678418890>"
            ]
          },
          "metadata": {},
          "execution_count": 1036
        },
        {
          "output_type": "display_data",
          "data": {
            "image/png": "[encoded data removed]",
            "text/plain": [
              "<Figure size 432x288 with 1 Axes>"
            ]
          },
          "metadata": {
            "needs_background": "light"
          }
        }
      ]
    },
    {
      "cell_type": "code",
      "source": [
        "#6. Guardian and G3\n",
        "sns.boxplot(x=\"guardian\", y=\"G3\", data=df)\n",
        "\n",
        "#Observation: Guardian has an impact on grades. Having mother or father leads to good grades as compared to other guardians.  "
      ],
      "metadata": {
        "colab": {
          "base_uri": "https://localhost:8080/",
          "height": 296
        },
        "id": "_Mf4StGUeqjr",
        "outputId": "34fcdb80-c688-4ef5-d697-59d50ad76e9a"
      },
      "execution_count": null,
      "outputs": [
        {
          "output_type": "execute_result",
          "data": {
            "text/plain": [
              "<matplotlib.axes._subplots.AxesSubplot at 0x7f567865fdd0>"
            ]
          },
          "metadata": {},
          "execution_count": 1037
        },
        {
          "output_type": "display_data",
          "data": {
            "image/png": "[encoded data removed]",
            "text/plain": [
              "<Figure size 432x288 with 1 Axes>"
            ]
          },
          "metadata": {
            "needs_background": "light"
          }
        }
      ]
    },
    {
      "cell_type": "code",
      "source": [
        "# 7. schoolsup and G3\n",
        "sns.boxplot(x=\"schoolsup\", y=\"G3\", data=df)\n",
        "\n",
        "#yes has an impact"
      ],
      "metadata": {
        "colab": {
          "base_uri": "https://localhost:8080/",
          "height": 296
        },
        "id": "ufMLVRVgfEqf",
        "outputId": "d5b5f256-f68e-47e8-f5ff-04225e9d0293"
      },
      "execution_count": null,
      "outputs": [
        {
          "output_type": "execute_result",
          "data": {
            "text/plain": [
              "<matplotlib.axes._subplots.AxesSubplot at 0x7f56782f1310>"
            ]
          },
          "metadata": {},
          "execution_count": 1038
        },
        {
          "output_type": "display_data",
          "data": {
            "image/png": "[encoded data removed]",
            "text/plain": [
              "<Figure size 432x288 with 1 Axes>"
            ]
          },
          "metadata": {
            "needs_background": "light"
          }
        }
      ]
    },
    {
      "cell_type": "code",
      "source": [
        "sns.boxplot(x=\"famsup\", y=\"G3\", data=df)\n",
        "# no impact"
      ],
      "metadata": {
        "colab": {
          "base_uri": "https://localhost:8080/",
          "height": 296
        },
        "id": "n5SGtSimfsP8",
        "outputId": "adeddceb-b98b-48eb-ba79-2bcec800f462"
      },
      "execution_count": null,
      "outputs": [
        {
          "output_type": "execute_result",
          "data": {
            "text/plain": [
              "<matplotlib.axes._subplots.AxesSubplot at 0x7f5678278910>"
            ]
          },
          "metadata": {},
          "execution_count": 1039
        },
        {
          "output_type": "display_data",
          "data": {
            "image/png": "[encoded data removed]",
            "text/plain": [
              "<Figure size 432x288 with 1 Axes>"
            ]
          },
          "metadata": {
            "needs_background": "light"
          }
        }
      ]
    },
    {
      "cell_type": "code",
      "source": [
        "sns.boxplot(x=\"paid\", y=\"G3\", data=df)\n",
        "# Observation: Extra paid cases has an impact. "
      ],
      "metadata": {
        "colab": {
          "base_uri": "https://localhost:8080/",
          "height": 296
        },
        "id": "rxnehlFAfz0j",
        "outputId": "f44a1d21-b924-4195-b1b9-64fedfa9dea3"
      },
      "execution_count": null,
      "outputs": [
        {
          "output_type": "execute_result",
          "data": {
            "text/plain": [
              "<matplotlib.axes._subplots.AxesSubplot at 0x7f5678207a50>"
            ]
          },
          "metadata": {},
          "execution_count": 1040
        },
        {
          "output_type": "display_data",
          "data": {
            "image/png": "[encoded data removed]",
            "text/plain": [
              "<Figure size 432x288 with 1 Axes>"
            ]
          },
          "metadata": {
            "needs_background": "light"
          }
        }
      ]
    },
    {
      "cell_type": "code",
      "source": [
        "sns.boxplot(x=\"activities\", y=\"G3\", data=df)\n",
        "# no impact"
      ],
      "metadata": {
        "colab": {
          "base_uri": "https://localhost:8080/",
          "height": 296
        },
        "id": "hZpdgXeGf-yS",
        "outputId": "ac762233-b4c6-47b8-a71b-e3aa6fe83bbd"
      },
      "execution_count": null,
      "outputs": [
        {
          "output_type": "execute_result",
          "data": {
            "text/plain": [
              "<matplotlib.axes._subplots.AxesSubplot at 0x7f567817ae90>"
            ]
          },
          "metadata": {},
          "execution_count": 1041
        },
        {
          "output_type": "display_data",
          "data": {
            "image/png": "[encoded data removed]",
            "text/plain": [
              "<Figure size 432x288 with 1 Axes>"
            ]
          },
          "metadata": {
            "needs_background": "light"
          }
        }
      ]
    },
    {
      "cell_type": "code",
      "source": [
        "\n",
        "sns.boxplot(x=\"nursery\", y=\"G3\", data=df)\n",
        "# has an impact"
      ],
      "metadata": {
        "colab": {
          "base_uri": "https://localhost:8080/",
          "height": 296
        },
        "id": "9o2Tn2hdgGz9",
        "outputId": "6800b734-18d4-466f-8976-2e6ebaf793f0"
      },
      "execution_count": null,
      "outputs": [
        {
          "output_type": "execute_result",
          "data": {
            "text/plain": [
              "<matplotlib.axes._subplots.AxesSubplot at 0x7f56781030d0>"
            ]
          },
          "metadata": {},
          "execution_count": 1042
        },
        {
          "output_type": "display_data",
          "data": {
            "image/png": "[encoded data removed]",
            "text/plain": [
              "<Figure size 432x288 with 1 Axes>"
            ]
          },
          "metadata": {
            "needs_background": "light"
          }
        }
      ]
    },
    {
      "cell_type": "code",
      "source": [
        "sns.boxplot(x=\"higher\", y=\"G3\", data=df)\n",
        "# Observation: students with plan to take higher education have good grades"
      ],
      "metadata": {
        "colab": {
          "base_uri": "https://localhost:8080/",
          "height": 296
        },
        "id": "lv_REutzgOxJ",
        "outputId": "5165db97-ce4e-473d-a00f-8b765fe9557b"
      },
      "execution_count": null,
      "outputs": [
        {
          "output_type": "execute_result",
          "data": {
            "text/plain": [
              "<matplotlib.axes._subplots.AxesSubplot at 0x7f56780af750>"
            ]
          },
          "metadata": {},
          "execution_count": 1043
        },
        {
          "output_type": "display_data",
          "data": {
            "image/png": "[encoded data removed]",
            "text/plain": [
              "<Figure size 432x288 with 1 Axes>"
            ]
          },
          "metadata": {
            "needs_background": "light"
          }
        }
      ]
    },
    {
      "cell_type": "code",
      "source": [
        "sns.boxplot(x=\"internet\", y=\"G3\", data=df)\n",
        "# Observation: students with internet connection have good grades. "
      ],
      "metadata": {
        "colab": {
          "base_uri": "https://localhost:8080/",
          "height": 296
        },
        "id": "VHN-J88JgfYp",
        "outputId": "65638ee7-2ed7-40a3-fe39-0334147f20b9"
      },
      "execution_count": null,
      "outputs": [
        {
          "output_type": "execute_result",
          "data": {
            "text/plain": [
              "<matplotlib.axes._subplots.AxesSubplot at 0x7f5677fde150>"
            ]
          },
          "metadata": {},
          "execution_count": 1044
        },
        {
          "output_type": "display_data",
          "data": {
            "image/png": "[encoded data removed]",
            "text/plain": [
              "<Figure size 432x288 with 1 Axes>"
            ]
          },
          "metadata": {
            "needs_background": "light"
          }
        }
      ]
    },
    {
      "cell_type": "code",
      "source": [
        "sns.boxplot(x=\"romantic\", y=\"G3\", data=df)\n",
        "#Observation: high school romance has no impact on grades"
      ],
      "metadata": {
        "colab": {
          "base_uri": "https://localhost:8080/",
          "height": 296
        },
        "id": "0hJIQ-JvgtV7",
        "outputId": "cb73b07e-c038-4d3a-8f38-038283889315"
      },
      "execution_count": null,
      "outputs": [
        {
          "output_type": "execute_result",
          "data": {
            "text/plain": [
              "<matplotlib.axes._subplots.AxesSubplot at 0x7f5677f2b0d0>"
            ]
          },
          "metadata": {},
          "execution_count": 1045
        },
        {
          "output_type": "display_data",
          "data": {
            "image/png": "[encoded data removed]",
            "text/plain": [
              "<Figure size 432x288 with 1 Axes>"
            ]
          },
          "metadata": {
            "needs_background": "light"
          }
        }
      ]
    },
    {
      "cell_type": "markdown",
      "source": [
        "###Conclusion from EDA: Features having impact on G3: \n",
        "\n",
        "\n",
        "1.   Numerical: studytime, failures, Dalc, Walc, traveltime, freetime, Medu and Fedu, G1, G2\n",
        "2.   Categorical: Sex, School, Address, Mjob + FJob, Reason, Guardian, Schoolsup, Higher, Internet \n",
        "\n"
      ],
      "metadata": {
        "id": "_gi03Ktgg9s5"
      }
    },
    {
      "cell_type": "code",
      "source": [
        "# G1 and G2 have same impact on G3. So instead of three features we can combine and have one grade column. \n",
        "#Replacing g1, g2, g3 column by G using mean method. \n",
        "#df[\"G\"]=(df[\"G1\"]+df[\"G2\"]+df[\"G3\"])/3\n",
        "# dropping initial grades and leaving mean \n",
        "#df= df.drop(['G1', 'G2'], axis=1)\n",
        "#df.head()"
      ],
      "metadata": {
        "id": "W9pU5dGzn0hi"
      },
      "execution_count": null,
      "outputs": []
    },
    {
      "cell_type": "markdown",
      "source": [
        "### Converting categorical features to numeric "
      ],
      "metadata": {
        "id": "rxp_OVcohRTt"
      }
    },
    {
      "cell_type": "code",
      "source": [
        "#dropping categorical data that does not impact the target variable\n",
        "df=df.drop(['famsize', 'Pstatus', 'famsup', 'activities', 'romantic'], axis = 1)\n",
        "\n",
        "#converting categorical to numerical using one hot encoding\n",
        "features_cat = ['sex','school','address','Mjob','Fjob','reason','schoolsup','guardian','higher','internet','paid', 'nursery']\n",
        "\n",
        "df = pd.get_dummies(df, columns = features_cat)\n",
        "df"
      ],
      "metadata": {
        "colab": {
          "base_uri": "https://localhost:8080/",
          "height": 488
        },
        "id": "pkrI9c-oiBhK",
        "outputId": "147bf0a0-419a-4017-baa2-b337c2e0d22b"
      },
      "execution_count": null,
      "outputs": [
        {
          "output_type": "execute_result",
          "data": {
            "text/html": [
              "\n",
              "  <div id=\"df-59493ede-6daa-462a-bc0e-9fce89075aff\">\n",
              "    <div class=\"colab-df-container\">\n",
              "      <div>\n",
              "<style scoped>\n",
              "    .dataframe tbody tr th:only-of-type {\n",
              "        vertical-align: middle;\n",
              "    }\n",
              "\n",
              "    .dataframe tbody tr th {\n",
              "        vertical-align: top;\n",
              "    }\n",
              "\n",
              "    .dataframe thead th {\n",
              "        text-align: right;\n",
              "    }\n",
              "</style>\n",
              "<table border=\"1\" class=\"dataframe\">\n",
              "  <thead>\n",
              "    <tr style=\"text-align: right;\">\n",
              "      <th></th>\n",
              "      <th>Medu</th>\n",
              "      <th>Fedu</th>\n",
              "      <th>traveltime</th>\n",
              "      <th>studytime</th>\n",
              "      <th>failures</th>\n",
              "      <th>freetime</th>\n",
              "      <th>Dalc</th>\n",
              "      <th>Walc</th>\n",
              "      <th>G1</th>\n",
              "      <th>G2</th>\n",
              "      <th>G3</th>\n",
              "      <th>sex_F</th>\n",
              "      <th>sex_M</th>\n",
              "      <th>school_GP</th>\n",
              "      <th>school_MS</th>\n",
              "      <th>address_R</th>\n",
              "      <th>address_U</th>\n",
              "      <th>Mjob_at_home</th>\n",
              "      <th>Mjob_health</th>\n",
              "      <th>Mjob_other</th>\n",
              "      <th>Mjob_services</th>\n",
              "      <th>Mjob_teacher</th>\n",
              "      <th>Fjob_at_home</th>\n",
              "      <th>Fjob_health</th>\n",
              "      <th>Fjob_other</th>\n",
              "      <th>Fjob_services</th>\n",
              "      <th>Fjob_teacher</th>\n",
              "      <th>reason_course</th>\n",
              "      <th>reason_home</th>\n",
              "      <th>reason_other</th>\n",
              "      <th>reason_reputation</th>\n",
              "      <th>schoolsup_no</th>\n",
              "      <th>schoolsup_yes</th>\n",
              "      <th>guardian_father</th>\n",
              "      <th>guardian_mother</th>\n",
              "      <th>guardian_other</th>\n",
              "      <th>higher_no</th>\n",
              "      <th>higher_yes</th>\n",
              "      <th>internet_no</th>\n",
              "      <th>internet_yes</th>\n",
              "      <th>paid_no</th>\n",
              "      <th>paid_yes</th>\n",
              "      <th>nursery_no</th>\n",
              "      <th>nursery_yes</th>\n",
              "    </tr>\n",
              "  </thead>\n",
              "  <tbody>\n",
              "    <tr>\n",
              "      <th>0</th>\n",
              "      <td>4</td>\n",
              "      <td>4</td>\n",
              "      <td>2</td>\n",
              "      <td>2</td>\n",
              "      <td>0</td>\n",
              "      <td>3</td>\n",
              "      <td>1</td>\n",
              "      <td>1</td>\n",
              "      <td>0</td>\n",
              "      <td>11</td>\n",
              "      <td>11</td>\n",
              "      <td>1</td>\n",
              "      <td>0</td>\n",
              "      <td>1</td>\n",
              "      <td>0</td>\n",
              "      <td>0</td>\n",
              "      <td>1</td>\n",
              "      <td>1</td>\n",
              "      <td>0</td>\n",
              "      <td>0</td>\n",
              "      <td>0</td>\n",
              "      <td>0</td>\n",
              "      <td>0</td>\n",
              "      <td>0</td>\n",
              "      <td>0</td>\n",
              "      <td>0</td>\n",
              "      <td>1</td>\n",
              "      <td>1</td>\n",
              "      <td>0</td>\n",
              "      <td>0</td>\n",
              "      <td>0</td>\n",
              "      <td>0</td>\n",
              "      <td>1</td>\n",
              "      <td>0</td>\n",
              "      <td>1</td>\n",
              "      <td>0</td>\n",
              "      <td>0</td>\n",
              "      <td>1</td>\n",
              "      <td>1</td>\n",
              "      <td>0</td>\n",
              "      <td>1</td>\n",
              "      <td>0</td>\n",
              "      <td>0</td>\n",
              "      <td>1</td>\n",
              "    </tr>\n",
              "    <tr>\n",
              "      <th>1</th>\n",
              "      <td>1</td>\n",
              "      <td>1</td>\n",
              "      <td>1</td>\n",
              "      <td>2</td>\n",
              "      <td>0</td>\n",
              "      <td>3</td>\n",
              "      <td>1</td>\n",
              "      <td>1</td>\n",
              "      <td>9</td>\n",
              "      <td>11</td>\n",
              "      <td>11</td>\n",
              "      <td>1</td>\n",
              "      <td>0</td>\n",
              "      <td>1</td>\n",
              "      <td>0</td>\n",
              "      <td>0</td>\n",
              "      <td>1</td>\n",
              "      <td>1</td>\n",
              "      <td>0</td>\n",
              "      <td>0</td>\n",
              "      <td>0</td>\n",
              "      <td>0</td>\n",
              "      <td>0</td>\n",
              "      <td>0</td>\n",
              "      <td>1</td>\n",
              "      <td>0</td>\n",
              "      <td>0</td>\n",
              "      <td>1</td>\n",
              "      <td>0</td>\n",
              "      <td>0</td>\n",
              "      <td>0</td>\n",
              "      <td>1</td>\n",
              "      <td>0</td>\n",
              "      <td>1</td>\n",
              "      <td>0</td>\n",
              "      <td>0</td>\n",
              "      <td>0</td>\n",
              "      <td>1</td>\n",
              "      <td>0</td>\n",
              "      <td>1</td>\n",
              "      <td>1</td>\n",
              "      <td>0</td>\n",
              "      <td>1</td>\n",
              "      <td>0</td>\n",
              "    </tr>\n",
              "    <tr>\n",
              "      <th>2</th>\n",
              "      <td>1</td>\n",
              "      <td>1</td>\n",
              "      <td>1</td>\n",
              "      <td>2</td>\n",
              "      <td>0</td>\n",
              "      <td>3</td>\n",
              "      <td>2</td>\n",
              "      <td>3</td>\n",
              "      <td>12</td>\n",
              "      <td>13</td>\n",
              "      <td>12</td>\n",
              "      <td>1</td>\n",
              "      <td>0</td>\n",
              "      <td>1</td>\n",
              "      <td>0</td>\n",
              "      <td>0</td>\n",
              "      <td>1</td>\n",
              "      <td>1</td>\n",
              "      <td>0</td>\n",
              "      <td>0</td>\n",
              "      <td>0</td>\n",
              "      <td>0</td>\n",
              "      <td>0</td>\n",
              "      <td>0</td>\n",
              "      <td>1</td>\n",
              "      <td>0</td>\n",
              "      <td>0</td>\n",
              "      <td>0</td>\n",
              "      <td>0</td>\n",
              "      <td>1</td>\n",
              "      <td>0</td>\n",
              "      <td>0</td>\n",
              "      <td>1</td>\n",
              "      <td>0</td>\n",
              "      <td>1</td>\n",
              "      <td>0</td>\n",
              "      <td>0</td>\n",
              "      <td>1</td>\n",
              "      <td>0</td>\n",
              "      <td>1</td>\n",
              "      <td>1</td>\n",
              "      <td>0</td>\n",
              "      <td>0</td>\n",
              "      <td>1</td>\n",
              "    </tr>\n",
              "    <tr>\n",
              "      <th>3</th>\n",
              "      <td>4</td>\n",
              "      <td>2</td>\n",
              "      <td>1</td>\n",
              "      <td>3</td>\n",
              "      <td>0</td>\n",
              "      <td>2</td>\n",
              "      <td>1</td>\n",
              "      <td>1</td>\n",
              "      <td>14</td>\n",
              "      <td>14</td>\n",
              "      <td>14</td>\n",
              "      <td>1</td>\n",
              "      <td>0</td>\n",
              "      <td>1</td>\n",
              "      <td>0</td>\n",
              "      <td>0</td>\n",
              "      <td>1</td>\n",
              "      <td>0</td>\n",
              "      <td>1</td>\n",
              "      <td>0</td>\n",
              "      <td>0</td>\n",
              "      <td>0</td>\n",
              "      <td>0</td>\n",
              "      <td>0</td>\n",
              "      <td>0</td>\n",
              "      <td>1</td>\n",
              "      <td>0</td>\n",
              "      <td>0</td>\n",
              "      <td>1</td>\n",
              "      <td>0</td>\n",
              "      <td>0</td>\n",
              "      <td>1</td>\n",
              "      <td>0</td>\n",
              "      <td>0</td>\n",
              "      <td>1</td>\n",
              "      <td>0</td>\n",
              "      <td>0</td>\n",
              "      <td>1</td>\n",
              "      <td>0</td>\n",
              "      <td>1</td>\n",
              "      <td>1</td>\n",
              "      <td>0</td>\n",
              "      <td>0</td>\n",
              "      <td>1</td>\n",
              "    </tr>\n",
              "    <tr>\n",
              "      <th>4</th>\n",
              "      <td>3</td>\n",
              "      <td>3</td>\n",
              "      <td>1</td>\n",
              "      <td>2</td>\n",
              "      <td>0</td>\n",
              "      <td>3</td>\n",
              "      <td>1</td>\n",
              "      <td>2</td>\n",
              "      <td>11</td>\n",
              "      <td>13</td>\n",
              "      <td>13</td>\n",
              "      <td>1</td>\n",
              "      <td>0</td>\n",
              "      <td>1</td>\n",
              "      <td>0</td>\n",
              "      <td>0</td>\n",
              "      <td>1</td>\n",
              "      <td>0</td>\n",
              "      <td>0</td>\n",
              "      <td>1</td>\n",
              "      <td>0</td>\n",
              "      <td>0</td>\n",
              "      <td>0</td>\n",
              "      <td>0</td>\n",
              "      <td>1</td>\n",
              "      <td>0</td>\n",
              "      <td>0</td>\n",
              "      <td>0</td>\n",
              "      <td>1</td>\n",
              "      <td>0</td>\n",
              "      <td>0</td>\n",
              "      <td>1</td>\n",
              "      <td>0</td>\n",
              "      <td>1</td>\n",
              "      <td>0</td>\n",
              "      <td>0</td>\n",
              "      <td>0</td>\n",
              "      <td>1</td>\n",
              "      <td>1</td>\n",
              "      <td>0</td>\n",
              "      <td>1</td>\n",
              "      <td>0</td>\n",
              "      <td>0</td>\n",
              "      <td>1</td>\n",
              "    </tr>\n",
              "    <tr>\n",
              "      <th>...</th>\n",
              "      <td>...</td>\n",
              "      <td>...</td>\n",
              "      <td>...</td>\n",
              "      <td>...</td>\n",
              "      <td>...</td>\n",
              "      <td>...</td>\n",
              "      <td>...</td>\n",
              "      <td>...</td>\n",
              "      <td>...</td>\n",
              "      <td>...</td>\n",
              "      <td>...</td>\n",
              "      <td>...</td>\n",
              "      <td>...</td>\n",
              "      <td>...</td>\n",
              "      <td>...</td>\n",
              "      <td>...</td>\n",
              "      <td>...</td>\n",
              "      <td>...</td>\n",
              "      <td>...</td>\n",
              "      <td>...</td>\n",
              "      <td>...</td>\n",
              "      <td>...</td>\n",
              "      <td>...</td>\n",
              "      <td>...</td>\n",
              "      <td>...</td>\n",
              "      <td>...</td>\n",
              "      <td>...</td>\n",
              "      <td>...</td>\n",
              "      <td>...</td>\n",
              "      <td>...</td>\n",
              "      <td>...</td>\n",
              "      <td>...</td>\n",
              "      <td>...</td>\n",
              "      <td>...</td>\n",
              "      <td>...</td>\n",
              "      <td>...</td>\n",
              "      <td>...</td>\n",
              "      <td>...</td>\n",
              "      <td>...</td>\n",
              "      <td>...</td>\n",
              "      <td>...</td>\n",
              "      <td>...</td>\n",
              "      <td>...</td>\n",
              "      <td>...</td>\n",
              "    </tr>\n",
              "    <tr>\n",
              "      <th>644</th>\n",
              "      <td>2</td>\n",
              "      <td>3</td>\n",
              "      <td>1</td>\n",
              "      <td>3</td>\n",
              "      <td>1</td>\n",
              "      <td>4</td>\n",
              "      <td>1</td>\n",
              "      <td>2</td>\n",
              "      <td>10</td>\n",
              "      <td>11</td>\n",
              "      <td>10</td>\n",
              "      <td>1</td>\n",
              "      <td>0</td>\n",
              "      <td>0</td>\n",
              "      <td>1</td>\n",
              "      <td>1</td>\n",
              "      <td>0</td>\n",
              "      <td>0</td>\n",
              "      <td>0</td>\n",
              "      <td>0</td>\n",
              "      <td>1</td>\n",
              "      <td>0</td>\n",
              "      <td>0</td>\n",
              "      <td>0</td>\n",
              "      <td>1</td>\n",
              "      <td>0</td>\n",
              "      <td>0</td>\n",
              "      <td>1</td>\n",
              "      <td>0</td>\n",
              "      <td>0</td>\n",
              "      <td>0</td>\n",
              "      <td>1</td>\n",
              "      <td>0</td>\n",
              "      <td>0</td>\n",
              "      <td>1</td>\n",
              "      <td>0</td>\n",
              "      <td>0</td>\n",
              "      <td>1</td>\n",
              "      <td>0</td>\n",
              "      <td>1</td>\n",
              "      <td>1</td>\n",
              "      <td>0</td>\n",
              "      <td>1</td>\n",
              "      <td>0</td>\n",
              "    </tr>\n",
              "    <tr>\n",
              "      <th>645</th>\n",
              "      <td>3</td>\n",
              "      <td>1</td>\n",
              "      <td>1</td>\n",
              "      <td>2</td>\n",
              "      <td>0</td>\n",
              "      <td>3</td>\n",
              "      <td>1</td>\n",
              "      <td>1</td>\n",
              "      <td>15</td>\n",
              "      <td>15</td>\n",
              "      <td>16</td>\n",
              "      <td>1</td>\n",
              "      <td>0</td>\n",
              "      <td>0</td>\n",
              "      <td>1</td>\n",
              "      <td>0</td>\n",
              "      <td>1</td>\n",
              "      <td>0</td>\n",
              "      <td>0</td>\n",
              "      <td>0</td>\n",
              "      <td>0</td>\n",
              "      <td>1</td>\n",
              "      <td>0</td>\n",
              "      <td>0</td>\n",
              "      <td>0</td>\n",
              "      <td>1</td>\n",
              "      <td>0</td>\n",
              "      <td>1</td>\n",
              "      <td>0</td>\n",
              "      <td>0</td>\n",
              "      <td>0</td>\n",
              "      <td>1</td>\n",
              "      <td>0</td>\n",
              "      <td>0</td>\n",
              "      <td>1</td>\n",
              "      <td>0</td>\n",
              "      <td>0</td>\n",
              "      <td>1</td>\n",
              "      <td>0</td>\n",
              "      <td>1</td>\n",
              "      <td>1</td>\n",
              "      <td>0</td>\n",
              "      <td>0</td>\n",
              "      <td>1</td>\n",
              "    </tr>\n",
              "    <tr>\n",
              "      <th>646</th>\n",
              "      <td>1</td>\n",
              "      <td>1</td>\n",
              "      <td>2</td>\n",
              "      <td>2</td>\n",
              "      <td>0</td>\n",
              "      <td>1</td>\n",
              "      <td>1</td>\n",
              "      <td>1</td>\n",
              "      <td>11</td>\n",
              "      <td>12</td>\n",
              "      <td>9</td>\n",
              "      <td>1</td>\n",
              "      <td>0</td>\n",
              "      <td>0</td>\n",
              "      <td>1</td>\n",
              "      <td>0</td>\n",
              "      <td>1</td>\n",
              "      <td>0</td>\n",
              "      <td>0</td>\n",
              "      <td>1</td>\n",
              "      <td>0</td>\n",
              "      <td>0</td>\n",
              "      <td>0</td>\n",
              "      <td>0</td>\n",
              "      <td>1</td>\n",
              "      <td>0</td>\n",
              "      <td>0</td>\n",
              "      <td>1</td>\n",
              "      <td>0</td>\n",
              "      <td>0</td>\n",
              "      <td>0</td>\n",
              "      <td>1</td>\n",
              "      <td>0</td>\n",
              "      <td>0</td>\n",
              "      <td>1</td>\n",
              "      <td>0</td>\n",
              "      <td>0</td>\n",
              "      <td>1</td>\n",
              "      <td>1</td>\n",
              "      <td>0</td>\n",
              "      <td>1</td>\n",
              "      <td>0</td>\n",
              "      <td>0</td>\n",
              "      <td>1</td>\n",
              "    </tr>\n",
              "    <tr>\n",
              "      <th>647</th>\n",
              "      <td>3</td>\n",
              "      <td>1</td>\n",
              "      <td>2</td>\n",
              "      <td>1</td>\n",
              "      <td>0</td>\n",
              "      <td>4</td>\n",
              "      <td>3</td>\n",
              "      <td>4</td>\n",
              "      <td>10</td>\n",
              "      <td>10</td>\n",
              "      <td>10</td>\n",
              "      <td>0</td>\n",
              "      <td>1</td>\n",
              "      <td>0</td>\n",
              "      <td>1</td>\n",
              "      <td>0</td>\n",
              "      <td>1</td>\n",
              "      <td>0</td>\n",
              "      <td>0</td>\n",
              "      <td>0</td>\n",
              "      <td>1</td>\n",
              "      <td>0</td>\n",
              "      <td>0</td>\n",
              "      <td>0</td>\n",
              "      <td>0</td>\n",
              "      <td>1</td>\n",
              "      <td>0</td>\n",
              "      <td>1</td>\n",
              "      <td>0</td>\n",
              "      <td>0</td>\n",
              "      <td>0</td>\n",
              "      <td>1</td>\n",
              "      <td>0</td>\n",
              "      <td>0</td>\n",
              "      <td>1</td>\n",
              "      <td>0</td>\n",
              "      <td>0</td>\n",
              "      <td>1</td>\n",
              "      <td>0</td>\n",
              "      <td>1</td>\n",
              "      <td>1</td>\n",
              "      <td>0</td>\n",
              "      <td>1</td>\n",
              "      <td>0</td>\n",
              "    </tr>\n",
              "    <tr>\n",
              "      <th>648</th>\n",
              "      <td>3</td>\n",
              "      <td>2</td>\n",
              "      <td>3</td>\n",
              "      <td>1</td>\n",
              "      <td>0</td>\n",
              "      <td>4</td>\n",
              "      <td>3</td>\n",
              "      <td>4</td>\n",
              "      <td>10</td>\n",
              "      <td>11</td>\n",
              "      <td>11</td>\n",
              "      <td>0</td>\n",
              "      <td>1</td>\n",
              "      <td>0</td>\n",
              "      <td>1</td>\n",
              "      <td>1</td>\n",
              "      <td>0</td>\n",
              "      <td>0</td>\n",
              "      <td>0</td>\n",
              "      <td>0</td>\n",
              "      <td>1</td>\n",
              "      <td>0</td>\n",
              "      <td>0</td>\n",
              "      <td>0</td>\n",
              "      <td>1</td>\n",
              "      <td>0</td>\n",
              "      <td>0</td>\n",
              "      <td>1</td>\n",
              "      <td>0</td>\n",
              "      <td>0</td>\n",
              "      <td>0</td>\n",
              "      <td>1</td>\n",
              "      <td>0</td>\n",
              "      <td>0</td>\n",
              "      <td>1</td>\n",
              "      <td>0</td>\n",
              "      <td>0</td>\n",
              "      <td>1</td>\n",
              "      <td>0</td>\n",
              "      <td>1</td>\n",
              "      <td>1</td>\n",
              "      <td>0</td>\n",
              "      <td>1</td>\n",
              "      <td>0</td>\n",
              "    </tr>\n",
              "  </tbody>\n",
              "</table>\n",
              "<p>649 rows × 44 columns</p>\n",
              "</div>\n",
              "      <button class=\"colab-df-convert\" onclick=\"convertToInteractive('df-59493ede-6daa-462a-bc0e-9fce89075aff')\"\n",
              "              title=\"Convert this dataframe to an interactive table.\"\n",
              "              style=\"display:none;\">\n",
              "        \n",
              "  <svg xmlns=\"http://www.w3.org/2000/svg\" height=\"24px\"viewBox=\"0 0 24 24\"\n",
              "       width=\"24px\">\n",
              "    <path d=\"M0 0h24v24H0V0z\" fill=\"none\"/>\n",
              "    <path d=\"M18.56 5.44l.94 2.06.94-2.06 2.06-.94-2.06-.94-.94-2.06-.94 2.06-2.06.94zm-11 1L8.5 8.5l.94-2.06 2.06-.94-2.06-.94L8.5 2.5l-.94 2.06-2.06.94zm10 10l.94 2.06.94-2.06 2.06-.94-2.06-.94-.94-2.06-.94 2.06-2.06.94z\"/><path d=\"M17.41 7.96l-1.37-1.37c-.4-.4-.92-.59-1.43-.59-.52 0-1.04.2-1.43.59L10.3 9.45l-7.72 7.72c-.78.78-.78 2.05 0 2.83L4 21.41c.39.39.9.59 1.41.59.51 0 1.02-.2 1.41-.59l7.78-7.78 2.81-2.81c.8-.78.8-2.07 0-2.86zM5.41 20L4 18.59l7.72-7.72 1.47 1.35L5.41 20z\"/>\n",
              "  </svg>\n",
              "      </button>\n",
              "      \n",
              "  <style>\n",
              "    .colab-df-container {\n",
              "      display:flex;\n",
              "      flex-wrap:wrap;\n",
              "      gap: 12px;\n",
              "    }\n",
              "\n",
              "    .colab-df-convert {\n",
              "      background-color: #E8F0FE;\n",
              "      border: none;\n",
              "      border-radius: 50%;\n",
              "      cursor: pointer;\n",
              "      display: none;\n",
              "      fill: #1967D2;\n",
              "      height: 32px;\n",
              "      padding: 0 0 0 0;\n",
              "      width: 32px;\n",
              "    }\n",
              "\n",
              "    .colab-df-convert:hover {\n",
              "      background-color: #E2EBFA;\n",
              "      box-shadow: 0px 1px 2px rgba(60, 64, 67, 0.3), 0px 1px 3px 1px rgba(60, 64, 67, 0.15);\n",
              "      fill: #174EA6;\n",
              "    }\n",
              "\n",
              "    [theme=dark] .colab-df-convert {\n",
              "      background-color: #3B4455;\n",
              "      fill: #D2E3FC;\n",
              "    }\n",
              "\n",
              "    [theme=dark] .colab-df-convert:hover {\n",
              "      background-color: #434B5C;\n",
              "      box-shadow: 0px 1px 3px 1px rgba(0, 0, 0, 0.15);\n",
              "      filter: drop-shadow(0px 1px 2px rgba(0, 0, 0, 0.3));\n",
              "      fill: #FFFFFF;\n",
              "    }\n",
              "  </style>\n",
              "\n",
              "      <script>\n",
              "        const buttonEl =\n",
              "          document.querySelector('#df-59493ede-6daa-462a-bc0e-9fce89075aff button.colab-df-convert');\n",
              "        buttonEl.style.display =\n",
              "          google.colab.kernel.accessAllowed ? 'block' : 'none';\n",
              "\n",
              "        async function convertToInteractive(key) {\n",
              "          const element = document.querySelector('#df-59493ede-6daa-462a-bc0e-9fce89075aff');\n",
              "          const dataTable =\n",
              "            await google.colab.kernel.invokeFunction('convertToInteractive',\n",
              "                                                     [key], {});\n",
              "          if (!dataTable) return;\n",
              "\n",
              "          const docLinkHtml = 'Like what you see? Visit the ' +\n",
              "            '<a target=\"_blank\" href=https://colab.research.google.com/notebooks/data_table.ipynb>data table notebook</a>'\n",
              "            + ' to learn more about interactive tables.';\n",
              "          element.innerHTML = '';\n",
              "          dataTable['output_type'] = 'display_data';\n",
              "          await google.colab.output.renderOutput(dataTable, element);\n",
              "          const docLink = document.createElement('div');\n",
              "          docLink.innerHTML = docLinkHtml;\n",
              "          element.appendChild(docLink);\n",
              "        }\n",
              "      </script>\n",
              "    </div>\n",
              "  </div>\n",
              "  "
            ],
            "text/plain": [
              "     Medu  Fedu  traveltime  ...  paid_yes  nursery_no  nursery_yes\n",
              "0       4     4           2  ...         0           0            1\n",
              "1       1     1           1  ...         0           1            0\n",
              "2       1     1           1  ...         0           0            1\n",
              "3       4     2           1  ...         0           0            1\n",
              "4       3     3           1  ...         0           0            1\n",
              "..    ...   ...         ...  ...       ...         ...          ...\n",
              "644     2     3           1  ...         0           1            0\n",
              "645     3     1           1  ...         0           0            1\n",
              "646     1     1           2  ...         0           0            1\n",
              "647     3     1           2  ...         0           1            0\n",
              "648     3     2           3  ...         0           1            0\n",
              "\n",
              "[649 rows x 44 columns]"
            ]
          },
          "metadata": {},
          "execution_count": 1047
        }
      ]
    },
    {
      "cell_type": "markdown",
      "source": [
        "###Apply Normalization and Generate Covariance Matrix"
      ],
      "metadata": {
        "id": "eKMbZR-BmukL"
      }
    },
    {
      "cell_type": "code",
      "source": [
        "X =df.drop('G3', axis=1)\n",
        "\n",
        "y = np.array(df['G3']) "
      ],
      "metadata": {
        "id": "dox6G1u8mMLR"
      },
      "execution_count": null,
      "outputs": []
    },
    {
      "cell_type": "code",
      "source": [
        "X"
      ],
      "metadata": {
        "colab": {
          "base_uri": "https://localhost:8080/",
          "height": 488
        },
        "id": "TlivPF0ZpwcP",
        "outputId": "069a8f32-cb6e-4929-d529-cbd17e2c0e0c"
      },
      "execution_count": null,
      "outputs": [
        {
          "output_type": "execute_result",
          "data": {
            "text/html": [
              "\n",
              "  <div id=\"df-460b7ff5-e235-4f1d-958d-f9393d60af1d\">\n",
              "    <div class=\"colab-df-container\">\n",
              "      <div>\n",
              "<style scoped>\n",
              "    .dataframe tbody tr th:only-of-type {\n",
              "        vertical-align: middle;\n",
              "    }\n",
              "\n",
              "    .dataframe tbody tr th {\n",
              "        vertical-align: top;\n",
              "    }\n",
              "\n",
              "    .dataframe thead th {\n",
              "        text-align: right;\n",
              "    }\n",
              "</style>\n",
              "<table border=\"1\" class=\"dataframe\">\n",
              "  <thead>\n",
              "    <tr style=\"text-align: right;\">\n",
              "      <th></th>\n",
              "      <th>Medu</th>\n",
              "      <th>Fedu</th>\n",
              "      <th>traveltime</th>\n",
              "      <th>studytime</th>\n",
              "      <th>failures</th>\n",
              "      <th>freetime</th>\n",
              "      <th>Dalc</th>\n",
              "      <th>Walc</th>\n",
              "      <th>G1</th>\n",
              "      <th>G2</th>\n",
              "      <th>sex_F</th>\n",
              "      <th>sex_M</th>\n",
              "      <th>school_GP</th>\n",
              "      <th>school_MS</th>\n",
              "      <th>address_R</th>\n",
              "      <th>address_U</th>\n",
              "      <th>Mjob_at_home</th>\n",
              "      <th>Mjob_health</th>\n",
              "      <th>Mjob_other</th>\n",
              "      <th>Mjob_services</th>\n",
              "      <th>Mjob_teacher</th>\n",
              "      <th>Fjob_at_home</th>\n",
              "      <th>Fjob_health</th>\n",
              "      <th>Fjob_other</th>\n",
              "      <th>Fjob_services</th>\n",
              "      <th>Fjob_teacher</th>\n",
              "      <th>reason_course</th>\n",
              "      <th>reason_home</th>\n",
              "      <th>reason_other</th>\n",
              "      <th>reason_reputation</th>\n",
              "      <th>schoolsup_no</th>\n",
              "      <th>schoolsup_yes</th>\n",
              "      <th>guardian_father</th>\n",
              "      <th>guardian_mother</th>\n",
              "      <th>guardian_other</th>\n",
              "      <th>higher_no</th>\n",
              "      <th>higher_yes</th>\n",
              "      <th>internet_no</th>\n",
              "      <th>internet_yes</th>\n",
              "      <th>paid_no</th>\n",
              "      <th>paid_yes</th>\n",
              "      <th>nursery_no</th>\n",
              "      <th>nursery_yes</th>\n",
              "    </tr>\n",
              "  </thead>\n",
              "  <tbody>\n",
              "    <tr>\n",
              "      <th>0</th>\n",
              "      <td>4</td>\n",
              "      <td>4</td>\n",
              "      <td>2</td>\n",
              "      <td>2</td>\n",
              "      <td>0</td>\n",
              "      <td>3</td>\n",
              "      <td>1</td>\n",
              "      <td>1</td>\n",
              "      <td>0</td>\n",
              "      <td>11</td>\n",
              "      <td>1</td>\n",
              "      <td>0</td>\n",
              "      <td>1</td>\n",
              "      <td>0</td>\n",
              "      <td>0</td>\n",
              "      <td>1</td>\n",
              "      <td>1</td>\n",
              "      <td>0</td>\n",
              "      <td>0</td>\n",
              "      <td>0</td>\n",
              "      <td>0</td>\n",
              "      <td>0</td>\n",
              "      <td>0</td>\n",
              "      <td>0</td>\n",
              "      <td>0</td>\n",
              "      <td>1</td>\n",
              "      <td>1</td>\n",
              "      <td>0</td>\n",
              "      <td>0</td>\n",
              "      <td>0</td>\n",
              "      <td>0</td>\n",
              "      <td>1</td>\n",
              "      <td>0</td>\n",
              "      <td>1</td>\n",
              "      <td>0</td>\n",
              "      <td>0</td>\n",
              "      <td>1</td>\n",
              "      <td>1</td>\n",
              "      <td>0</td>\n",
              "      <td>1</td>\n",
              "      <td>0</td>\n",
              "      <td>0</td>\n",
              "      <td>1</td>\n",
              "    </tr>\n",
              "    <tr>\n",
              "      <th>1</th>\n",
              "      <td>1</td>\n",
              "      <td>1</td>\n",
              "      <td>1</td>\n",
              "      <td>2</td>\n",
              "      <td>0</td>\n",
              "      <td>3</td>\n",
              "      <td>1</td>\n",
              "      <td>1</td>\n",
              "      <td>9</td>\n",
              "      <td>11</td>\n",
              "      <td>1</td>\n",
              "      <td>0</td>\n",
              "      <td>1</td>\n",
              "      <td>0</td>\n",
              "      <td>0</td>\n",
              "      <td>1</td>\n",
              "      <td>1</td>\n",
              "      <td>0</td>\n",
              "      <td>0</td>\n",
              "      <td>0</td>\n",
              "      <td>0</td>\n",
              "      <td>0</td>\n",
              "      <td>0</td>\n",
              "      <td>1</td>\n",
              "      <td>0</td>\n",
              "      <td>0</td>\n",
              "      <td>1</td>\n",
              "      <td>0</td>\n",
              "      <td>0</td>\n",
              "      <td>0</td>\n",
              "      <td>1</td>\n",
              "      <td>0</td>\n",
              "      <td>1</td>\n",
              "      <td>0</td>\n",
              "      <td>0</td>\n",
              "      <td>0</td>\n",
              "      <td>1</td>\n",
              "      <td>0</td>\n",
              "      <td>1</td>\n",
              "      <td>1</td>\n",
              "      <td>0</td>\n",
              "      <td>1</td>\n",
              "      <td>0</td>\n",
              "    </tr>\n",
              "    <tr>\n",
              "      <th>2</th>\n",
              "      <td>1</td>\n",
              "      <td>1</td>\n",
              "      <td>1</td>\n",
              "      <td>2</td>\n",
              "      <td>0</td>\n",
              "      <td>3</td>\n",
              "      <td>2</td>\n",
              "      <td>3</td>\n",
              "      <td>12</td>\n",
              "      <td>13</td>\n",
              "      <td>1</td>\n",
              "      <td>0</td>\n",
              "      <td>1</td>\n",
              "      <td>0</td>\n",
              "      <td>0</td>\n",
              "      <td>1</td>\n",
              "      <td>1</td>\n",
              "      <td>0</td>\n",
              "      <td>0</td>\n",
              "      <td>0</td>\n",
              "      <td>0</td>\n",
              "      <td>0</td>\n",
              "      <td>0</td>\n",
              "      <td>1</td>\n",
              "      <td>0</td>\n",
              "      <td>0</td>\n",
              "      <td>0</td>\n",
              "      <td>0</td>\n",
              "      <td>1</td>\n",
              "      <td>0</td>\n",
              "      <td>0</td>\n",
              "      <td>1</td>\n",
              "      <td>0</td>\n",
              "      <td>1</td>\n",
              "      <td>0</td>\n",
              "      <td>0</td>\n",
              "      <td>1</td>\n",
              "      <td>0</td>\n",
              "      <td>1</td>\n",
              "      <td>1</td>\n",
              "      <td>0</td>\n",
              "      <td>0</td>\n",
              "      <td>1</td>\n",
              "    </tr>\n",
              "    <tr>\n",
              "      <th>3</th>\n",
              "      <td>4</td>\n",
              "      <td>2</td>\n",
              "      <td>1</td>\n",
              "      <td>3</td>\n",
              "      <td>0</td>\n",
              "      <td>2</td>\n",
              "      <td>1</td>\n",
              "      <td>1</td>\n",
              "      <td>14</td>\n",
              "      <td>14</td>\n",
              "      <td>1</td>\n",
              "      <td>0</td>\n",
              "      <td>1</td>\n",
              "      <td>0</td>\n",
              "      <td>0</td>\n",
              "      <td>1</td>\n",
              "      <td>0</td>\n",
              "      <td>1</td>\n",
              "      <td>0</td>\n",
              "      <td>0</td>\n",
              "      <td>0</td>\n",
              "      <td>0</td>\n",
              "      <td>0</td>\n",
              "      <td>0</td>\n",
              "      <td>1</td>\n",
              "      <td>0</td>\n",
              "      <td>0</td>\n",
              "      <td>1</td>\n",
              "      <td>0</td>\n",
              "      <td>0</td>\n",
              "      <td>1</td>\n",
              "      <td>0</td>\n",
              "      <td>0</td>\n",
              "      <td>1</td>\n",
              "      <td>0</td>\n",
              "      <td>0</td>\n",
              "      <td>1</td>\n",
              "      <td>0</td>\n",
              "      <td>1</td>\n",
              "      <td>1</td>\n",
              "      <td>0</td>\n",
              "      <td>0</td>\n",
              "      <td>1</td>\n",
              "    </tr>\n",
              "    <tr>\n",
              "      <th>4</th>\n",
              "      <td>3</td>\n",
              "      <td>3</td>\n",
              "      <td>1</td>\n",
              "      <td>2</td>\n",
              "      <td>0</td>\n",
              "      <td>3</td>\n",
              "      <td>1</td>\n",
              "      <td>2</td>\n",
              "      <td>11</td>\n",
              "      <td>13</td>\n",
              "      <td>1</td>\n",
              "      <td>0</td>\n",
              "      <td>1</td>\n",
              "      <td>0</td>\n",
              "      <td>0</td>\n",
              "      <td>1</td>\n",
              "      <td>0</td>\n",
              "      <td>0</td>\n",
              "      <td>1</td>\n",
              "      <td>0</td>\n",
              "      <td>0</td>\n",
              "      <td>0</td>\n",
              "      <td>0</td>\n",
              "      <td>1</td>\n",
              "      <td>0</td>\n",
              "      <td>0</td>\n",
              "      <td>0</td>\n",
              "      <td>1</td>\n",
              "      <td>0</td>\n",
              "      <td>0</td>\n",
              "      <td>1</td>\n",
              "      <td>0</td>\n",
              "      <td>1</td>\n",
              "      <td>0</td>\n",
              "      <td>0</td>\n",
              "      <td>0</td>\n",
              "      <td>1</td>\n",
              "      <td>1</td>\n",
              "      <td>0</td>\n",
              "      <td>1</td>\n",
              "      <td>0</td>\n",
              "      <td>0</td>\n",
              "      <td>1</td>\n",
              "    </tr>\n",
              "    <tr>\n",
              "      <th>...</th>\n",
              "      <td>...</td>\n",
              "      <td>...</td>\n",
              "      <td>...</td>\n",
              "      <td>...</td>\n",
              "      <td>...</td>\n",
              "      <td>...</td>\n",
              "      <td>...</td>\n",
              "      <td>...</td>\n",
              "      <td>...</td>\n",
              "      <td>...</td>\n",
              "      <td>...</td>\n",
              "      <td>...</td>\n",
              "      <td>...</td>\n",
              "      <td>...</td>\n",
              "      <td>...</td>\n",
              "      <td>...</td>\n",
              "      <td>...</td>\n",
              "      <td>...</td>\n",
              "      <td>...</td>\n",
              "      <td>...</td>\n",
              "      <td>...</td>\n",
              "      <td>...</td>\n",
              "      <td>...</td>\n",
              "      <td>...</td>\n",
              "      <td>...</td>\n",
              "      <td>...</td>\n",
              "      <td>...</td>\n",
              "      <td>...</td>\n",
              "      <td>...</td>\n",
              "      <td>...</td>\n",
              "      <td>...</td>\n",
              "      <td>...</td>\n",
              "      <td>...</td>\n",
              "      <td>...</td>\n",
              "      <td>...</td>\n",
              "      <td>...</td>\n",
              "      <td>...</td>\n",
              "      <td>...</td>\n",
              "      <td>...</td>\n",
              "      <td>...</td>\n",
              "      <td>...</td>\n",
              "      <td>...</td>\n",
              "      <td>...</td>\n",
              "    </tr>\n",
              "    <tr>\n",
              "      <th>644</th>\n",
              "      <td>2</td>\n",
              "      <td>3</td>\n",
              "      <td>1</td>\n",
              "      <td>3</td>\n",
              "      <td>1</td>\n",
              "      <td>4</td>\n",
              "      <td>1</td>\n",
              "      <td>2</td>\n",
              "      <td>10</td>\n",
              "      <td>11</td>\n",
              "      <td>1</td>\n",
              "      <td>0</td>\n",
              "      <td>0</td>\n",
              "      <td>1</td>\n",
              "      <td>1</td>\n",
              "      <td>0</td>\n",
              "      <td>0</td>\n",
              "      <td>0</td>\n",
              "      <td>0</td>\n",
              "      <td>1</td>\n",
              "      <td>0</td>\n",
              "      <td>0</td>\n",
              "      <td>0</td>\n",
              "      <td>1</td>\n",
              "      <td>0</td>\n",
              "      <td>0</td>\n",
              "      <td>1</td>\n",
              "      <td>0</td>\n",
              "      <td>0</td>\n",
              "      <td>0</td>\n",
              "      <td>1</td>\n",
              "      <td>0</td>\n",
              "      <td>0</td>\n",
              "      <td>1</td>\n",
              "      <td>0</td>\n",
              "      <td>0</td>\n",
              "      <td>1</td>\n",
              "      <td>0</td>\n",
              "      <td>1</td>\n",
              "      <td>1</td>\n",
              "      <td>0</td>\n",
              "      <td>1</td>\n",
              "      <td>0</td>\n",
              "    </tr>\n",
              "    <tr>\n",
              "      <th>645</th>\n",
              "      <td>3</td>\n",
              "      <td>1</td>\n",
              "      <td>1</td>\n",
              "      <td>2</td>\n",
              "      <td>0</td>\n",
              "      <td>3</td>\n",
              "      <td>1</td>\n",
              "      <td>1</td>\n",
              "      <td>15</td>\n",
              "      <td>15</td>\n",
              "      <td>1</td>\n",
              "      <td>0</td>\n",
              "      <td>0</td>\n",
              "      <td>1</td>\n",
              "      <td>0</td>\n",
              "      <td>1</td>\n",
              "      <td>0</td>\n",
              "      <td>0</td>\n",
              "      <td>0</td>\n",
              "      <td>0</td>\n",
              "      <td>1</td>\n",
              "      <td>0</td>\n",
              "      <td>0</td>\n",
              "      <td>0</td>\n",
              "      <td>1</td>\n",
              "      <td>0</td>\n",
              "      <td>1</td>\n",
              "      <td>0</td>\n",
              "      <td>0</td>\n",
              "      <td>0</td>\n",
              "      <td>1</td>\n",
              "      <td>0</td>\n",
              "      <td>0</td>\n",
              "      <td>1</td>\n",
              "      <td>0</td>\n",
              "      <td>0</td>\n",
              "      <td>1</td>\n",
              "      <td>0</td>\n",
              "      <td>1</td>\n",
              "      <td>1</td>\n",
              "      <td>0</td>\n",
              "      <td>0</td>\n",
              "      <td>1</td>\n",
              "    </tr>\n",
              "    <tr>\n",
              "      <th>646</th>\n",
              "      <td>1</td>\n",
              "      <td>1</td>\n",
              "      <td>2</td>\n",
              "      <td>2</td>\n",
              "      <td>0</td>\n",
              "      <td>1</td>\n",
              "      <td>1</td>\n",
              "      <td>1</td>\n",
              "      <td>11</td>\n",
              "      <td>12</td>\n",
              "      <td>1</td>\n",
              "      <td>0</td>\n",
              "      <td>0</td>\n",
              "      <td>1</td>\n",
              "      <td>0</td>\n",
              "      <td>1</td>\n",
              "      <td>0</td>\n",
              "      <td>0</td>\n",
              "      <td>1</td>\n",
              "      <td>0</td>\n",
              "      <td>0</td>\n",
              "      <td>0</td>\n",
              "      <td>0</td>\n",
              "      <td>1</td>\n",
              "      <td>0</td>\n",
              "      <td>0</td>\n",
              "      <td>1</td>\n",
              "      <td>0</td>\n",
              "      <td>0</td>\n",
              "      <td>0</td>\n",
              "      <td>1</td>\n",
              "      <td>0</td>\n",
              "      <td>0</td>\n",
              "      <td>1</td>\n",
              "      <td>0</td>\n",
              "      <td>0</td>\n",
              "      <td>1</td>\n",
              "      <td>1</td>\n",
              "      <td>0</td>\n",
              "      <td>1</td>\n",
              "      <td>0</td>\n",
              "      <td>0</td>\n",
              "      <td>1</td>\n",
              "    </tr>\n",
              "    <tr>\n",
              "      <th>647</th>\n",
              "      <td>3</td>\n",
              "      <td>1</td>\n",
              "      <td>2</td>\n",
              "      <td>1</td>\n",
              "      <td>0</td>\n",
              "      <td>4</td>\n",
              "      <td>3</td>\n",
              "      <td>4</td>\n",
              "      <td>10</td>\n",
              "      <td>10</td>\n",
              "      <td>0</td>\n",
              "      <td>1</td>\n",
              "      <td>0</td>\n",
              "      <td>1</td>\n",
              "      <td>0</td>\n",
              "      <td>1</td>\n",
              "      <td>0</td>\n",
              "      <td>0</td>\n",
              "      <td>0</td>\n",
              "      <td>1</td>\n",
              "      <td>0</td>\n",
              "      <td>0</td>\n",
              "      <td>0</td>\n",
              "      <td>0</td>\n",
              "      <td>1</td>\n",
              "      <td>0</td>\n",
              "      <td>1</td>\n",
              "      <td>0</td>\n",
              "      <td>0</td>\n",
              "      <td>0</td>\n",
              "      <td>1</td>\n",
              "      <td>0</td>\n",
              "      <td>0</td>\n",
              "      <td>1</td>\n",
              "      <td>0</td>\n",
              "      <td>0</td>\n",
              "      <td>1</td>\n",
              "      <td>0</td>\n",
              "      <td>1</td>\n",
              "      <td>1</td>\n",
              "      <td>0</td>\n",
              "      <td>1</td>\n",
              "      <td>0</td>\n",
              "    </tr>\n",
              "    <tr>\n",
              "      <th>648</th>\n",
              "      <td>3</td>\n",
              "      <td>2</td>\n",
              "      <td>3</td>\n",
              "      <td>1</td>\n",
              "      <td>0</td>\n",
              "      <td>4</td>\n",
              "      <td>3</td>\n",
              "      <td>4</td>\n",
              "      <td>10</td>\n",
              "      <td>11</td>\n",
              "      <td>0</td>\n",
              "      <td>1</td>\n",
              "      <td>0</td>\n",
              "      <td>1</td>\n",
              "      <td>1</td>\n",
              "      <td>0</td>\n",
              "      <td>0</td>\n",
              "      <td>0</td>\n",
              "      <td>0</td>\n",
              "      <td>1</td>\n",
              "      <td>0</td>\n",
              "      <td>0</td>\n",
              "      <td>0</td>\n",
              "      <td>1</td>\n",
              "      <td>0</td>\n",
              "      <td>0</td>\n",
              "      <td>1</td>\n",
              "      <td>0</td>\n",
              "      <td>0</td>\n",
              "      <td>0</td>\n",
              "      <td>1</td>\n",
              "      <td>0</td>\n",
              "      <td>0</td>\n",
              "      <td>1</td>\n",
              "      <td>0</td>\n",
              "      <td>0</td>\n",
              "      <td>1</td>\n",
              "      <td>0</td>\n",
              "      <td>1</td>\n",
              "      <td>1</td>\n",
              "      <td>0</td>\n",
              "      <td>1</td>\n",
              "      <td>0</td>\n",
              "    </tr>\n",
              "  </tbody>\n",
              "</table>\n",
              "<p>649 rows × 43 columns</p>\n",
              "</div>\n",
              "      <button class=\"colab-df-convert\" onclick=\"convertToInteractive('df-460b7ff5-e235-4f1d-958d-f9393d60af1d')\"\n",
              "              title=\"Convert this dataframe to an interactive table.\"\n",
              "              style=\"display:none;\">\n",
              "        \n",
              "  <svg xmlns=\"http://www.w3.org/2000/svg\" height=\"24px\"viewBox=\"0 0 24 24\"\n",
              "       width=\"24px\">\n",
              "    <path d=\"M0 0h24v24H0V0z\" fill=\"none\"/>\n",
              "    <path d=\"M18.56 5.44l.94 2.06.94-2.06 2.06-.94-2.06-.94-.94-2.06-.94 2.06-2.06.94zm-11 1L8.5 8.5l.94-2.06 2.06-.94-2.06-.94L8.5 2.5l-.94 2.06-2.06.94zm10 10l.94 2.06.94-2.06 2.06-.94-2.06-.94-.94-2.06-.94 2.06-2.06.94z\"/><path d=\"M17.41 7.96l-1.37-1.37c-.4-.4-.92-.59-1.43-.59-.52 0-1.04.2-1.43.59L10.3 9.45l-7.72 7.72c-.78.78-.78 2.05 0 2.83L4 21.41c.39.39.9.59 1.41.59.51 0 1.02-.2 1.41-.59l7.78-7.78 2.81-2.81c.8-.78.8-2.07 0-2.86zM5.41 20L4 18.59l7.72-7.72 1.47 1.35L5.41 20z\"/>\n",
              "  </svg>\n",
              "      </button>\n",
              "      \n",
              "  <style>\n",
              "    .colab-df-container {\n",
              "      display:flex;\n",
              "      flex-wrap:wrap;\n",
              "      gap: 12px;\n",
              "    }\n",
              "\n",
              "    .colab-df-convert {\n",
              "      background-color: #E8F0FE;\n",
              "      border: none;\n",
              "      border-radius: 50%;\n",
              "      cursor: pointer;\n",
              "      display: none;\n",
              "      fill: #1967D2;\n",
              "      height: 32px;\n",
              "      padding: 0 0 0 0;\n",
              "      width: 32px;\n",
              "    }\n",
              "\n",
              "    .colab-df-convert:hover {\n",
              "      background-color: #E2EBFA;\n",
              "      box-shadow: 0px 1px 2px rgba(60, 64, 67, 0.3), 0px 1px 3px 1px rgba(60, 64, 67, 0.15);\n",
              "      fill: #174EA6;\n",
              "    }\n",
              "\n",
              "    [theme=dark] .colab-df-convert {\n",
              "      background-color: #3B4455;\n",
              "      fill: #D2E3FC;\n",
              "    }\n",
              "\n",
              "    [theme=dark] .colab-df-convert:hover {\n",
              "      background-color: #434B5C;\n",
              "      box-shadow: 0px 1px 3px 1px rgba(0, 0, 0, 0.15);\n",
              "      filter: drop-shadow(0px 1px 2px rgba(0, 0, 0, 0.3));\n",
              "      fill: #FFFFFF;\n",
              "    }\n",
              "  </style>\n",
              "\n",
              "      <script>\n",
              "        const buttonEl =\n",
              "          document.querySelector('#df-460b7ff5-e235-4f1d-958d-f9393d60af1d button.colab-df-convert');\n",
              "        buttonEl.style.display =\n",
              "          google.colab.kernel.accessAllowed ? 'block' : 'none';\n",
              "\n",
              "        async function convertToInteractive(key) {\n",
              "          const element = document.querySelector('#df-460b7ff5-e235-4f1d-958d-f9393d60af1d');\n",
              "          const dataTable =\n",
              "            await google.colab.kernel.invokeFunction('convertToInteractive',\n",
              "                                                     [key], {});\n",
              "          if (!dataTable) return;\n",
              "\n",
              "          const docLinkHtml = 'Like what you see? Visit the ' +\n",
              "            '<a target=\"_blank\" href=https://colab.research.google.com/notebooks/data_table.ipynb>data table notebook</a>'\n",
              "            + ' to learn more about interactive tables.';\n",
              "          element.innerHTML = '';\n",
              "          dataTable['output_type'] = 'display_data';\n",
              "          await google.colab.output.renderOutput(dataTable, element);\n",
              "          const docLink = document.createElement('div');\n",
              "          docLink.innerHTML = docLinkHtml;\n",
              "          element.appendChild(docLink);\n",
              "        }\n",
              "      </script>\n",
              "    </div>\n",
              "  </div>\n",
              "  "
            ],
            "text/plain": [
              "     Medu  Fedu  traveltime  ...  paid_yes  nursery_no  nursery_yes\n",
              "0       4     4           2  ...         0           0            1\n",
              "1       1     1           1  ...         0           1            0\n",
              "2       1     1           1  ...         0           0            1\n",
              "3       4     2           1  ...         0           0            1\n",
              "4       3     3           1  ...         0           0            1\n",
              "..    ...   ...         ...  ...       ...         ...          ...\n",
              "644     2     3           1  ...         0           1            0\n",
              "645     3     1           1  ...         0           0            1\n",
              "646     1     1           2  ...         0           0            1\n",
              "647     3     1           2  ...         0           1            0\n",
              "648     3     2           3  ...         0           1            0\n",
              "\n",
              "[649 rows x 43 columns]"
            ]
          },
          "metadata": {},
          "execution_count": 1049
        }
      ]
    },
    {
      "cell_type": "code",
      "source": [
        "#Normalisation using Standard Scaler\n",
        "from sklearn.preprocessing import StandardScaler\n",
        "X = StandardScaler().fit_transform(X)"
      ],
      "metadata": {
        "id": "IaXvmC0aqGAg"
      },
      "execution_count": null,
      "outputs": []
    },
    {
      "cell_type": "code",
      "source": [
        "#Covariance matrix\n",
        "cov_matrix = np.cov(X , rowvar = False)\n",
        "cov_matrix"
      ],
      "metadata": {
        "colab": {
          "base_uri": "https://localhost:8080/"
        },
        "id": "eIjcH7ZXrGu1",
        "outputId": "ae3cb80c-3058-4cb8-a048-11c77e490b7a"
      },
      "execution_count": null,
      "outputs": [
        {
          "output_type": "execute_result",
          "data": {
            "text/plain": [
              "array([[ 1.00154321,  0.6484758 , -0.26548808, ...,  0.11414873,\n",
              "        -0.1261457 ,  0.1261457 ],\n",
              "       [ 0.6484758 ,  1.00154321, -0.20860941, ...,  0.0947741 ,\n",
              "        -0.07497817,  0.07497817],\n",
              "       [-0.26548808, -0.20860941,  1.00154321, ..., -0.04491161,\n",
              "         0.01152704, -0.01152704],\n",
              "       ...,\n",
              "       [ 0.11414873,  0.0947741 , -0.04491161, ...,  1.00154321,\n",
              "        -0.02760902,  0.02760902],\n",
              "       [-0.1261457 , -0.07497817,  0.01152704, ..., -0.02760902,\n",
              "         1.00154321, -1.00154321],\n",
              "       [ 0.1261457 ,  0.07497817, -0.01152704, ...,  0.02760902,\n",
              "        -1.00154321,  1.00154321]])"
            ]
          },
          "metadata": {},
          "execution_count": 1051
        }
      ]
    },
    {
      "cell_type": "code",
      "source": [
        "#using prettytable to print the covariance matrix in form of table\n",
        "from prettytable import PrettyTable\n",
        "df_columns = list(df.drop('G3', axis=1).columns)\n",
        "cov_table = PrettyTable([' '] + df_columns)\n",
        "for i in range(len(df_columns)):\n",
        "    cov_table.add_row([df_columns[i]] + list(cov_matrix[i]))\n",
        "print(cov_table)"
      ],
      "metadata": {
        "colab": {
          "base_uri": "https://localhost:8080/"
        },
        "id": "RjUHzK-HrR2Q",
        "outputId": "0f6662f6-7a5e-4cb3-a506-a60e712662f9"
      },
      "execution_count": null,
      "outputs": [
        {
          "output_type": "stream",
          "name": "stdout",
          "text": [
            "+-------------------+------------------------+-----------------------+-----------------------+------------------------+------------------------+-----------------------+------------------------+-----------------------+-----------------------+-----------------------+-----------------------+-----------------------+-----------------------+-----------------------+------------------------+-----------------------+------------------------+------------------------+------------------------+------------------------+-----------------------+-----------------------+-----------------------+-----------------------+------------------------+------------------------+------------------------+-----------------------+------------------------+-----------------------+-----------------------+------------------------+------------------------+------------------------+-----------------------+-----------------------+-----------------------+-----------------------+-----------------------+------------------------+------------------------+-----------------------+-----------------------+\n",
            "|                   |          Medu          |          Fedu         |       traveltime      |       studytime        |        failures        |        freetime       |          Dalc          |          Walc         |           G1          |           G2          |         sex_F         |         sex_M         |       school_GP       |       school_MS       |       address_R        |       address_U       |      Mjob_at_home      |      Mjob_health       |       Mjob_other       |     Mjob_services      |      Mjob_teacher     |      Fjob_at_home     |      Fjob_health      |       Fjob_other      |     Fjob_services      |      Fjob_teacher      |     reason_course      |      reason_home      |      reason_other      |   reason_reputation   |      schoolsup_no     |     schoolsup_yes      |    guardian_father     |    guardian_mother     |     guardian_other    |       higher_no       |       higher_yes      |      internet_no      |      internet_yes     |        paid_no         |        paid_yes        |       nursery_no      |      nursery_yes      |\n",
            "+-------------------+------------------------+-----------------------+-----------------------+------------------------+------------------------+-----------------------+------------------------+-----------------------+-----------------------+-----------------------+-----------------------+-----------------------+-----------------------+-----------------------+------------------------+-----------------------+------------------------+------------------------+------------------------+------------------------+-----------------------+-----------------------+-----------------------+-----------------------+------------------------+------------------------+------------------------+-----------------------+------------------------+-----------------------+-----------------------+------------------------+------------------------+------------------------+-----------------------+-----------------------+-----------------------+-----------------------+-----------------------+------------------------+------------------------+-----------------------+-----------------------+\n",
            "|        Medu       |   1.0015432098765447   |   0.6484758014345455  |  -0.2654880753417493  |  0.09715553326430229   |  -0.1724760438937899   | -0.019716678332688545 | -0.0070291497910862245 | -0.019796288530584846 |   0.2608742529750549  |   0.2644427615776574  |  -0.11931109949016998 |  0.11931109949016998  |  0.25518015703805097  |  -0.25518015703805097 |  -0.1906134359476382   |   0.1906134359476382  |  -0.3772176474052895   |   0.2616180138218224   |  -0.22468152200803046  |   0.1304726666494213   |   0.4505407251415123  |  -0.09746274948408921 |  0.15581634506691638  |  -0.11773278358186688 | -0.012595330659680987  |  0.25853456116993695   |  -0.11978656984825664  |  0.03663601443989636  | -0.034908708295380814  |  0.13270616317720807  |  0.022202706697821702 |  -0.02220270669782172  | -0.040855388835071525  |  0.09170319457617329   |  -0.10127883210478567 |  -0.21422640563313086 |  0.21422640563313086  |  -0.26646287261362617 |  0.26646287261362617  |  -0.11414872619265856  |  0.11414872619265856   |  -0.1261456950969171  |   0.126145695096917   |\n",
            "|        Fedu       |   0.6484758014345455   |   1.0015432098765435  |  -0.20860941055534238 |  0.050477424898499136  |  -0.16617104703040692  |  0.006851187569916539 | 6.086868780722057e-05  |  0.03850402850639213  |  0.21783629979975763  |  0.22548636627200452  |  -0.08404294632183082 |  0.08404294632183082  |  0.21013011611394994  |  -0.21013011611394994 |  -0.14171108100562935  |   0.1417110810056292  |  -0.19854575530716556  |   0.1410065306464527   |  -0.19827959094931225  |  0.10452932869330629   |  0.31261136966011716  |  -0.10774135419867006 |  0.22743130233673278  |  -0.21678152270395826 |  0.026615535128798454  |   0.3494128723713171   |  -0.06899972379238861  |  0.01773713833856954  | -0.027169220844854562  |  0.08520748395114729  |  -0.02360795428382405 |  0.023607954283824013  |  0.08629086787260183   |  -0.04451832052285719  |  -0.06678680248613403 |  -0.19203128293239896 |  0.19203128293239896  |  -0.18376582379009165 |  0.18376582379009165  |  -0.09477409759954827  |  0.09477409759954827   |  -0.07497817273498668 |  0.07497817273498668  |\n",
            "|     traveltime    |  -0.2654880753417493   |  -0.20860941055534238 |   1.001543209876546   |  -0.06325136397492177  |  0.09788056764409288   | 0.0009381797045871806 |  0.09296753090808832   |  0.05709515203800888  |  -0.15435746003428577 |  -0.1547272793395465  |  -0.04094318026549334 |  0.04094318026549334  |  -0.2533260873686542  |   0.2533260873686542  |  0.34543377282447163   |  -0.3454337728244716  |  0.17403994774757212   |  -0.10476754293073126  |  0.035027355343494444  |  -0.07260889939925672  |  -0.0981124272754244  | -0.040917042219294174 |  -0.09011998101870226 |   0.1012767385061539  |  -0.03178889215532868  |  -0.04027093099226755  |   0.1328408755168467   |  -0.12614015487596816 |  0.05953139026552958   |  -0.07617497456842527 |  0.04487643223134206  |  -0.04487643223134204  |  0.019484797567410117  |  -0.06623254528198036  |   0.0906365019891995  |  0.07206952470314101  |  -0.07206952470314101 |  0.19112095564422074  |  -0.19112095564422074 |   0.0449116106569668   | -0.044911610656966854  |  0.011527035859300169 | -0.011527035859300202 |\n",
            "|     studytime     |  0.09715553326430229   |  0.050477424898499136 |  -0.06325136397492177 |   1.0015432098765447   |  -0.14766807685706382  |  -0.06893544011630325 |  -0.1377970615712382   |  -0.21525677907084914 |   0.2612779657766359  |   0.2408691379674601  |  0.20653200540983607  |  -0.20653200540983607 |  0.13806994358288316  |  -0.13806994358288316 |  -0.06211850481976809  |  0.062118504819768154 |  -0.03962967846482051  | -0.019007704637031296  | -0.004226447410023471  |  0.029414311296594192  |  0.03552402971801459  |  -0.00823235607342619 |  0.09661981852804334  | -0.035881661063942374 |  0.014738683644515627  |  -0.02036621452398862  |  -0.08342993901809287  | -0.011814305249554997 |  -0.08896992786152332  |  0.17929936679025246  |  -0.08945390118472035 |  0.08945390118472034   |  0.015828464022660048  |  -0.01810420317675082  |  0.006450331647162915 |  -0.18854624978412643 |  0.18854624978412649  |  -0.03758645551903902 |  0.03758645551903902  |  0.002317621142333108  | -0.0023176211423331055 |  -0.04269558740310263 |  0.042695587403102586 |\n",
            "|      failures     |  -0.1724760438937899   |  -0.16617104703040692 |  0.09788056764409288  |  -0.14766807685706382  |   1.0015432098765427   |  0.10916282336926297  |  0.10611259389338788   |  0.08239321880448643  |  -0.3848033934056601  |  -0.38637755815662234 |  -0.07400203625746683 |  0.07400203625746683  |  -0.11396377360734607 |  0.11396377360734607  |  0.06392295240813113   |  -0.06392295240813115 |  0.09650654510757596   |  -0.01641589556777747  | -0.0013032623740662106 |  0.011669615051816797  |  -0.12413675593966236 |   0.0389520324627623  |  -0.05777674169804405 |  0.045009725332833546 | -0.006735436199501741  |  -0.07947467639325176  |  0.16138044527276427   |  -0.08084362448597057 | 0.00020436136382736325 |  -0.11135611145390639 | 0.0007465609978525739 | -0.0007465609978525656 |  -0.07327776378032891  |  -0.05661430003995939  |  0.23438839788021765  |   0.3098776802688924  |  -0.30987768026889245 |  0.09547689119163924  |  -0.09547689119163924 |  -0.06952284491813349  |  0.06952284491813347   |  0.06934807775273039  |  -0.06934807775273039 |\n",
            "|      freetime     | -0.019716678332688545  |  0.006851187569916539 | 0.0009381797045871806 |  -0.06893544011630325  |  0.10916282336926297   |   1.0015432098765429  |  0.11007316363833348   |  0.12042944224314396  |  -0.09464243397729699 |  -0.10684255294235886 |  -0.14653080939378108 |  0.14653080939378108  |  -0.03471955385349823 |  0.03471955385349823  |  0.036703368934435314  |  -0.03670336893443538 | -0.022941887036085372  | -0.020511270899100525  | -0.019550151727418082  |  0.01257184950839837   |  0.06091460402057476  |  0.03241996365831177  |  -0.02500480801262516 |  0.03805489659850895  | -0.051211311468165814  | 0.0032738997546142533  |  0.07585527117390067   |  -0.05541468881645946 |  -0.03265599481813034  |  -0.00985399022876968 |  0.015634598048525548 |  -0.01563459804852559  |  -0.04355536857363826  |  0.02238344132326605   |  0.033874784175193136 |  0.10277587034091674  |  -0.10277587034091673 |  -0.06336560720429266 |  0.06336560720429266  |  0.049650777911224776  |  -0.0496507779112248   | 0.0071065278629651426 | -0.007106527862965152 |\n",
            "|        Dalc       | -0.0070291497910862245 | 6.086868780722057e-05 |  0.09296753090808832  |  -0.1377970615712382   |  0.10611259389338788   |  0.11007316363833348  |   1.001543209876545    |   0.6175128656786384  |  -0.1954721239061518  |  -0.18977234246507899 |  -0.2831322615232675  |   0.2831322615232675  |  -0.04724224996295603 |  0.04724224996295603  |  0.04737746108484895   |  -0.04737746108484897 | -0.0033408580355670484 |  -0.07727883053644545  | -0.019096046260292685  |  0.056153713518383504  |  0.025701366448926986 |  -0.0345973121579604  | -0.004996193084084968 |  -0.05170603117809029 |  0.08967364583793112   | -0.022493728604415203  | -0.051006972429345786  |  0.06017778988365213  |  0.12141171482519855   |  -0.0919841191039219  |  0.028119593599562946 | -0.028119593599563068  |  0.035983482188555835  |  -0.0932078278978694   |  0.11261062944081761  |  0.13186572470659078  |  -0.13186572470659075 |  -0.0428772624187176  |   0.0428772624187176  |  -0.05206590312343801  |  0.052065903123437986  |  0.07849733540598026  |  -0.07849733540598028 |\n",
            "|        Walc       | -0.019796288530584846  |  0.03850402850639213  |  0.05709515203800888  |  -0.21525677907084914  |  0.08239321880448643   |  0.12042944224314396  |   0.6175128656786384   |   1.001543209876542   |  -0.15588968620332055 |   -0.165106588289997  |  -0.32127984843450175 |  0.32127984843450175  | -0.014191090672714863 |  0.014191090672714863 |  0.012435404198653325  | -0.012435404198653363 |  -0.00846762828691508  |  0.02545114673778417   | -0.059832218219390734  |  0.049816656649040864  |  0.01841221038703664  |  -0.05756625835990283 | -0.015933542919823195 |  -0.01920822995155946 |  0.10253883524634076   |  -0.08455413455063626  |  -0.03131120892436615  |  0.017771499445582147 |  0.060528445553026514  | -0.026405233272876284 |  0.09842634207105305  |  -0.09842634207105304  |  0.008764829446913596  | -0.006819611850274548  | -0.002459943425447792 |  0.08445687470324614  |  -0.08445687470324614 |  -0.0607445059288053  |   0.0607445059288053  | -0.035736638811838924  |  0.03573663881183894   |   0.0758653605034614  |  -0.0758653605034614  |\n",
            "|         G1        |   0.2608742529750549   |  0.21783629979975763  |  -0.15435746003428577 |   0.2612779657766359   |  -0.3848033934056601   |  -0.09464243397729699 |  -0.1954721239061518   |  -0.15588968620332055 |   1.0015432098765447  |   0.8663164785035031  |  0.10426922967064028  |  -0.10426922967064028 |  0.29307716311012233  |  -0.29307716311012233 |  -0.15736901910186293  |  0.15736901910186293  |  -0.17723851392677725  |  0.10284739182856205   |  -0.03674082311965617  |  0.03970664645152508   |  0.14915462743632393  |  -0.09549352400580947 |  0.04509769926788091  | -0.015276736407694298 |  -0.02412667701672425  |   0.1465640532755201   |  -0.1345957754528543   |  0.051549975822301225 |  -0.09087833573220587  |  0.17771473659381737  |   0.0718897114017887  |  -0.0718897114017887   |   0.0781186074482548   | -0.005627529598393495  |  -0.12571083593426413 |  -0.34956874015949446 |   0.3495687401594945  |  -0.14014645489658376 |  0.14014645489658376  |  0.06288044211093922   |  -0.06288044211093922  | -0.031219661910701565 |  0.031219661910701545 |\n",
            "|         G2        |   0.2644427615776574   |  0.22548636627200452  |  -0.1547272793395465  |   0.2408691379674601   |  -0.38637755815662234  |  -0.10684255294235886 |  -0.18977234246507899  |   -0.165106588289997  |   0.8663164785035031  |   1.001543209876543   |  0.10416567025082872  |  -0.10416567025082872 |   0.2701920034625806  |  -0.2701920034625806  |  -0.15483847989544045  |  0.15483847989544053  |  -0.15144177414501256  |  0.10458121452177489   |  -0.04017001617122146  |  0.026653821634875816  |  0.13662920123389344  |  -0.07097953841127105 |  0.04554847596414996  |  -0.01093878862448829 |  -0.04277494716534205  |  0.14699335749760312   |  -0.1286806801789942   |  0.04039912702702383  |  -0.09628382402230148  |  0.18604271490229377  |  0.056711016920825745 |  -0.05671101692082576  |  0.058409318419439235  | 0.0018536730343411754  |  -0.10540007438321061 |  -0.33246525977403607 |  0.33246525977403607  |  -0.1481375526560136  |   0.1481375526560136  |   0.0339775031265542   |  -0.0339775031265542   | -0.039928857918639905 |  0.03992885791863993  |\n",
            "|       sex_F       |  -0.11931109949016998  |  -0.08404294632183082 |  -0.04094318026549334 |  0.20653200540983607   |  -0.07400203625746683  |  -0.14653080939378108 |  -0.2831322615232675   |  -0.32127984843450175 |  0.10426922967064028  |  0.10416567025082872  |   1.0015432098765402  |  -1.0015432098765402  |  -0.08317772391337849 |  0.08317772391337849  |  0.02554198643709375   |  -0.02554198643709375 |  0.13398505212952813   | -0.039886347927694084  |  0.024006979828024078  |  -0.05596473518869552  |  -0.1048081072178573  |  0.05374868279335902  |  0.007243661879734713 |  0.03430396082080948  | -0.047685266159266965  |  -0.04448425942672685  |  0.04938313478907624   | -0.059170537924790975 |  -0.03486932474272131  |  0.027331187217670878 |  -0.11137404193796145 |  0.11137404193796145   | -0.039114989932366555  |  0.030754898139666684  |  0.010374239517376063 |  -0.05822358074912896 |  0.058223580749128985 |  0.06601260625755682  |  -0.06601260625755682 |  0.07942222939311253   |  -0.07942222939311257  | -0.043670052288843776 |  0.043670052288843776 |\n",
            "|       sex_M       |  0.11931109949016998   |  0.08404294632183082  |  0.04094318026549334  |  -0.20653200540983607  |  0.07400203625746683   |  0.14653080939378108  |   0.2831322615232675   |  0.32127984843450175  |  -0.10426922967064028 |  -0.10416567025082872 |  -1.0015432098765402  |   1.0015432098765402  |  0.08317772391337849  |  -0.08317772391337849 |  -0.02554198643709375  |  0.02554198643709375  |  -0.13398505212952813  |  0.039886347927694084  | -0.024006979828024078  |  0.05596473518869552   |   0.1048081072178573  |  -0.05374868279335902 | -0.007243661879734713 |  -0.03430396082080948 |  0.047685266159266965  |  0.04448425942672685   |  -0.04938313478907624  |  0.059170537924790975 |  0.03486932474272131   | -0.027331187217670878 |  0.11137404193796145  |  -0.11137404193796145  |  0.039114989932366555  | -0.030754898139666684  | -0.010374239517376063 |  0.05822358074912896  | -0.058223580749128985 |  -0.06601260625755682 |  0.06601260625755682  |  -0.07942222939311253  |  0.07942222939311257   |  0.043670052288843776 | -0.043670052288843776 |\n",
            "|     school_GP     |  0.25518015703805097   |  0.21013011611394994  |  -0.2533260873686542  |  0.13806994358288316   |  -0.11396377360734607  |  -0.03471955385349823 |  -0.04724224996295603  | -0.014191090672714863 |  0.29307716311012233  |   0.2701920034625806  |  -0.08317772391337849 |  0.08317772391337849  |   1.001543209876541   |   -1.001543209876541  |  -0.35506692905832554  |   0.3550669290583255  |  -0.19943167644897902  |  0.07073661383968533   |  -0.04075421530846928  |  0.12224333234819414   |    0.10388901242042   |  -0.1365950342584163  |  0.05272255473299277  |  0.06403904061651648  |  -0.06479705604283777  |  0.09249845189454478   |  -0.12241485134537658  |   0.1377604493566948  |  -0.20553718795063353  |  0.16253214180116243  |  -0.1235298661242324  |   0.1235298661242324   |   -0.066554153679637   |  0.05267150913439702   |  0.017008111732299377 |  -0.1363224099356729  |   0.1363224099356729  |  -0.2408570530937725  |   0.2408570530937725  | -0.007917524516921418  |  0.007917524516921445  |  0.004666211085338792 | -0.004666211085338784 |\n",
            "|     school_MS     |  -0.25518015703805097  |  -0.21013011611394994 |   0.2533260873686542  |  -0.13806994358288316  |  0.11396377360734607   |  0.03471955385349823  |  0.04724224996295603   |  0.014191090672714863 |  -0.29307716311012233 |  -0.2701920034625806  |  0.08317772391337849  |  -0.08317772391337849 |   -1.001543209876541  |   1.001543209876541   |  0.35506692905832554   |  -0.3550669290583255  |  0.19943167644897902   |  -0.07073661383968533  |  0.04075421530846928   |  -0.12224333234819414  |   -0.10388901242042   |   0.1365950342584163  |  -0.05272255473299277 |  -0.06403904061651648 |  0.06479705604283777   |  -0.09249845189454478  |  0.12241485134537658   |  -0.1377604493566948  |  0.20553718795063353   |  -0.16253214180116243 |   0.1235298661242324  |  -0.1235298661242324   |   0.066554153679637    |  -0.05267150913439702  | -0.017008111732299377 |   0.1363224099356729  |  -0.1363224099356729  |   0.2408570530937725  |  -0.2408570530937725  |  0.007917524516921418  | -0.007917524516921445  | -0.004666211085338792 |  0.004666211085338784 |\n",
            "|     address_R     |  -0.1906134359476382   |  -0.14171108100562935 |  0.34543377282447163  |  -0.06211850481976809  |  0.06392295240813113   |  0.036703368934435314 |  0.04737746108484895   |  0.012435404198653325 |  -0.15736901910186293 |  -0.15483847989544045 |  0.02554198643709375  |  -0.02554198643709375 |  -0.35506692905832554 |  0.35506692905832554  |   1.0015432098765438   |  -1.0015432098765438  |  0.16556242508467944   |  -0.08426101800362783  |  0.038993794170310916  |  -0.10128660930559721  |  -0.07326146710055888 | -0.023858560178892405 |  -0.07227844243429503 |  0.06499767482508248  | -0.014530337155422658  | -0.028264622048383457  |   0.0709436919558228   |  -0.1614313178336156  |  0.08704430548292963   |  0.012901631165908332 |  0.017983509375604435 | -0.017983509375604417  | -0.0034967348628556845 | -0.015488103848468916  |  0.035245864612150034 |   0.0768244503667632  |  -0.07682445036676323 |   0.1760654259151145  |  -0.1760654259151145  | -0.030530070730643205  |  0.030530070730643198  |  0.01810483746806274  | -0.018104837468062754 |\n",
            "|     address_U     |   0.1906134359476382   |   0.1417110810056292  |  -0.3454337728244716  |  0.062118504819768154  |  -0.06392295240813115  |  -0.03670336893443538 |  -0.04737746108484897  | -0.012435404198653363 |  0.15736901910186293  |  0.15483847989544053  |  -0.02554198643709375 |  0.02554198643709375  |   0.3550669290583255  |  -0.3550669290583255  |  -1.0015432098765438   |   1.0015432098765438  |  -0.16556242508467944  |  0.08426101800362783   |  -0.03899379417031093  |  0.10128660930559669   |  0.07326146710055878  |  0.023858560178892416 |  0.07227844243429506  |  -0.06499767482508252 |  0.014530337155422549  |  0.028264622048383446  |  -0.07094369195582279  |   0.1614313178336159  |  -0.08704430548292975  | -0.012901631165908327 |  -0.01798350937560444 |  0.017983509375604445  | 0.0034967348628557257  |  0.015488103848469053  |  -0.03524586461214995 |  -0.07682445036676297 |  0.07682445036676298  |  -0.1760654259151145  |   0.1760654259151145  |  0.030530070730643215  | -0.030530070730643215  | -0.018104837468062802 |  0.01810483746806281  |\n",
            "|    Mjob_at_home   |  -0.3772176474052895   |  -0.19854575530716556 |  0.17403994774757212  |  -0.03962967846482051  |  0.09650654510757596   | -0.022941887036085372 | -0.0033408580355670484 |  -0.00846762828691508 |  -0.17723851392677725 |  -0.15144177414501256 |  0.13398505212952813  |  -0.13398505212952813 |  -0.19943167644897902 |  0.19943167644897902  |  0.16556242508467944   |  -0.16556242508467944 |   1.0015432098765442   |  -0.14505690214283887  |  -0.4169428109103086   |  -0.26428090620354466  |  -0.18131484260852215 |  0.14315984791989053  | -0.057256963857246185 |  0.005058333157279079 | -0.013990991864124166  |  -0.09116616259358198  |  0.12806717644864582   |  -0.07226750783693761 |  0.060811356677344025  |  -0.12609315441307892 |  0.014212403810328119 | -0.014212403810328112  | -0.025312440801171877  | -0.005362023423885843  |  0.05425486921370512  |   0.1559983672313164  |  -0.15599836723131644 |  0.23926732887865046  |  -0.23926732887865046 | 0.0017994794288637068  | -0.0017994794288637053 |  0.003577697968023637 |  -0.00357769796802356 |\n",
            "|    Mjob_health    |   0.2616180138218224   |   0.1410065306464527  |  -0.10476754293073126 | -0.019007704637031296  |  -0.01641589556777747  | -0.020511270899100525 |  -0.07727883053644545  |  0.02545114673778417  |  0.10284739182856205  |  0.10458121452177489  | -0.039886347927694084 |  0.039886347927694084 |  0.07073661383968533  |  -0.07073661383968533 |  -0.08426101800362783  |  0.08426101800362783  |  -0.14505690214283887  |   1.001543209876547    |  -0.22991883377001757  |  -0.1457349932700329   |  -0.0999842090255241  |  -0.05048488369322719 |  0.23278990139327574  |  -0.07308032761746885 |  0.02121271728776893   | -0.017068635500886917  |  -0.0841065280053454   |  -0.02832281343060666 |  0.03144757963273818   |   0.1056173714397531  |  0.05832474211063426  |  -0.05832474211063428  |  0.06507270589116214   |  -0.0341575052119669   | -0.049262099126725085 |  -0.09762557890711404 |  0.09762557890711404  |  -0.08607841892046975 |  0.08607841892046975  | -0.0028673181158817814 | 0.0028673181158818005  |  -0.03655773847517437 |  0.03655773847517437  |\n",
            "|     Mjob_other    |  -0.22468152200803046  |  -0.19827959094931225 |  0.035027355343494444 | -0.004226447410023471  | -0.0013032623740662106 | -0.019550151727418082 | -0.019096046260292685  | -0.059832218219390734 |  -0.03674082311965617 |  -0.04017001617122146 |  0.024006979828024078 | -0.024006979828024078 |  -0.04075421530846928 |  0.04075421530846928  |  0.038993794170310916  |  -0.03899379417031093 |  -0.4169428109103086   |  -0.22991883377001757  |   1.0015432098765396   |  -0.41889187514957527  |  -0.2873885802186458  | -0.034561335603598906 |  -0.10477715701842778 |   0.2360415134921135  |  -0.15437008800087793  |  -0.08694606261086327  |  -0.04636711036210196  |  0.08073209436871594  |  -0.04641288440223654  |  0.008768590324380583 |  -0.04085132714239832 |  0.04085132714239832   |  0.06817726807640187   |  -0.10937369697089798  |  0.08685946477347205  |  0.026292323270776484 |  -0.02629232327077647 |  0.06695994747770621  |  -0.06695994747770621 |  0.03322213996215285   |  -0.03322213996215282  |  0.08808942005132975  |  -0.08808942005132976 |\n",
            "|   Mjob_services   |   0.1304726666494213   |  0.10452932869330629  |  -0.07260889939925672 |  0.029414311296594192  |  0.011669615051816797  |  0.01257184950839837  |  0.056153713518383504  |  0.049816656649040864 |  0.03970664645152508  |  0.026653821634875816 |  -0.05596473518869552 |  0.05596473518869552  |  0.12224333234819414  |  -0.12224333234819414 |  -0.10128660930559721  |  0.10128660930559669  |  -0.26428090620354466  |  -0.1457349932700329   |  -0.41889187514957527  |   1.001543209876544    |  -0.18216242713697395 | -0.027761125830810616 | -0.016811331106944414 |  -0.1446200577529022  |  0.17815855238994022   |  0.007555301112669055  | -0.036082690337081266  |  -0.02004609337183763 | -0.0010603817756135567 |   0.064348593523456   |  -0.04643223679044207 |  0.046432236790442075  | -0.018416670327537153  |  0.06339122595446653   |  -0.08715349433120462 | -0.042551939259106365 |  0.04255193925910637  |  -0.1493490193288693  |   0.1493490193288693  |  -0.04511078678392228  |  0.04511078678392228   | -0.026899436173040914 |  0.02689943617304093  |\n",
            "|    Mjob_teacher   |   0.4505407251415123   |  0.31261136966011716  |  -0.0981124272754244  |  0.03552402971801459   |  -0.12413675593966236  |  0.06091460402057476  |  0.025701366448926986  |  0.01841221038703664  |  0.14915462743632393  |  0.13662920123389344  |  -0.1048081072178573  |   0.1048081072178573  |    0.10388901242042   |   -0.10388901242042   |  -0.07326146710055888  |  0.07326146710055878  |  -0.18131484260852215  |  -0.0999842090255241   |  -0.2873885802186458   |  -0.18216242713697395  |   1.0015432098765442  |  -0.05311746455662469 |  0.06507113002109759  |  -0.1260425465854789  |  0.01007923690967904   |   0.2577406932797369   |  0.023585870185342868  |  0.017174566125957327 | -0.031099334217714776  |  -0.02210332600997653 |  0.05685921370283966  | -0.056859213702839716  |  -0.10388440310893907  |  0.12367856386866656   |   -0.051476300012724  |  -0.10608651871297718 |  0.10608651871297718  |  -0.14829717333604886 |  0.14829717333604886  |  0.006753893001494025  | -0.006753893001494025  |  -0.07656841581294485 |  0.07656841581294484  |\n",
            "|    Fjob_at_home   |  -0.09746274948408921  |  -0.10774135419867006 | -0.040917042219294174 |  -0.00823235607342619  |   0.0389520324627623   |  0.03241996365831177  |  -0.0345973121579604   |  -0.05756625835990283 |  -0.09549352400580947 |  -0.07097953841127105 |  0.05374868279335902  |  -0.05374868279335902 |  -0.1365950342584163  |   0.1365950342584163  | -0.023858560178892405  |  0.023858560178892416 |  0.14315984791989053   |  -0.05048488369322719  | -0.034561335603598906  | -0.027761125830810616  |  -0.05311746455662469 |   1.0015432098765442  |  -0.05049829813217169 |  -0.30054428119470256 |  -0.16383864648547655  |  -0.06384413448021922  |  0.09550542463420306   |  -0.02449795138717233 | -0.033144559285912395  |  -0.06438338846962136 | -0.012276025417600443 |  0.01227602541760043   |  0.01623505171607955   |  -0.03350588269269878  |  0.03472309390478103  |   0.092278902384059   |  -0.09227890238405903 |  0.10730327768248633  |  -0.10730327768248633 | -0.012566431221387942  |  0.012566431221387937  |  -0.03599772520400775 |  0.03599772520400774  |\n",
            "|    Fjob_health    |  0.15581634506691638   |  0.22743130233673278  |  -0.09011998101870226 |  0.09661981852804334   |  -0.05777674169804405  |  -0.02500480801262516 | -0.004996193084084968  | -0.015933542919823195 |  0.04509769926788091  |  0.04554847596414996  |  0.007243661879734713 | -0.007243661879734713 |  0.05272255473299277  |  -0.05272255473299277 |  -0.07227844243429503  |  0.07227844243429506  | -0.057256963857246185  |  0.23278990139327574   |  -0.10477715701842778  | -0.016811331106944414  |  0.06507113002109759  |  -0.05049829813217169 |   1.0015432098765409  |  -0.21900544889513981 |  -0.11938858452834361  |  -0.04652297250701605  |  -0.06895890537136143  |  -0.04525871147466356 |   0.0650711300210976   |  0.07918738457867779  |  -0.07059010001244523 |  0.07059010001244523   |  0.07035488671294089   |  -0.03874148906353327  |  -0.04985245854845307 |  -0.0391365827883749  |   0.0391365827883749  | -0.006939853590691266 |  0.006939853590691266 |  0.013420635033216752  |  -0.01342063503321673  | -0.053201587398486065 |  0.05320158739848604  |\n",
            "|     Fjob_other    |  -0.11773278358186688  |  -0.21678152270395826 |   0.1012767385061539  | -0.035881661063942374  |  0.045009725332833546  |  0.03805489659850895  |  -0.05170603117809029  |  -0.01920822995155946 | -0.015276736407694298 |  -0.01093878862448829 |  0.03430396082080948  |  -0.03430396082080948 |  0.06403904061651648  |  -0.06403904061651648 |  0.06499767482508248   |  -0.06499767482508252 |  0.005058333157279079  |  -0.07308032761746885  |   0.2360415134921135   |  -0.1446200577529022   |  -0.1260425465854789  |  -0.30054428119470256 |  -0.21900544889513981 |   1.0015432098765418  |   -0.710549813500829   |   -0.276884842625105   | -0.013570820014061324  |  0.06471773356291136  |  -0.08639077114487018  |  0.016041022861313727 |  0.014770026510900047 | -0.014770026510900052  |  -0.14316392801206135  |   0.0863965103756971   |   0.087213823381703   |  0.020013107633622185 | -0.020013107633622188 | -0.002860944944479314 |  0.002860944944479314 | -0.012393194190580136  |  0.012393194190580123  |  0.020482437439150618 | -0.020482437439150895 |\n",
            "|   Fjob_services   | -0.012595330659680987  |  0.026615535128798454 |  -0.03178889215532868 |  0.014738683644515627  | -0.006735436199501741  | -0.051211311468165814 |  0.08967364583793112   |  0.10253883524634076  |  -0.02412667701672425 |  -0.04277494716534205 | -0.047685266159266965 |  0.047685266159266965 |  -0.06479705604283777 |  0.06479705604283777  | -0.014530337155422658  |  0.014530337155422549 | -0.013990991864124166  |  0.02121271728776893   |  -0.15437008800087793  |  0.17815855238994022   |  0.01007923690967904  |  -0.16383864648547655 |  -0.11938858452834361 |   -0.710549813500829  |   1.0015432098765438   |  -0.1509409451003762   | -0.003354779675239525  |  -0.03726780121444573 |  0.07582219926527554   | -0.015619958070785664 |  0.055781538783129955 | -0.055781538783129955  |  0.09995844014976149   | -0.059348539337083284  |  -0.06272700450987688 | -0.025045534807133053 |  0.025045534807133087 |  -0.04978133424121829 |  0.04978133424121829  | -0.0017848439148862479 | 0.0017848439148862437  |  0.011260050529941593 | -0.011260050529941593 |\n",
            "|    Fjob_teacher   |  0.25853456116993695   |   0.3494128723713171  |  -0.04027093099226755 |  -0.02036621452398862  |  -0.07947467639325176  | 0.0032738997546142533 | -0.022493728604415203  |  -0.08455413455063626 |   0.1465640532755201  |  0.14699335749760312  |  -0.04448425942672685 |  0.04448425942672685  |  0.09249845189454478  |  -0.09249845189454478 | -0.028264622048383457  |  0.028264622048383446 |  -0.09116616259358198  | -0.017068635500886917  |  -0.08694606261086327  |  0.007555301112669055  |   0.2577406932797369  |  -0.06384413448021922 |  -0.04652297250701605 |   -0.276884842625105  |  -0.1509409451003762   |   1.001543209876541    | -0.010989410208475953  | -0.004248528283658458 |  0.021599675656014727  |  0.001102802146177368 |  -0.07106073710118321 |  0.07106073710118321   |  0.03991679013218928   | -0.0035173317973247733 |  -0.0630276105425671  |  -0.0618423137422614  |  0.061842313742261436 | -0.005998945060450974 |  0.005998945060450974 |  0.033001823243335726  |  -0.03300182324333573  |  0.015246747355335353 | -0.015246747355335353 |\n",
            "|   reason_course   |  -0.11978656984825664  |  -0.06899972379238861 |   0.1328408755168467  |  -0.08342993901809287  |  0.16138044527276427   |  0.07585527117390067  | -0.051006972429345786  |  -0.03131120892436615 |  -0.1345957754528543  |  -0.1286806801789942  |  0.04938313478907624  |  -0.04938313478907624 |  -0.12241485134537658 |  0.12241485134537658  |   0.0709436919558228   |  -0.07094369195582279 |  0.12806717644864582   |  -0.0841065280053454   |  -0.04636711036210196  | -0.036082690337081266  |  0.023585870185342868 |  0.09550542463420306  |  -0.06895890537136143 | -0.013570820014061324 | -0.003354779675239525  | -0.010989410208475953  |   1.0015432098765455   |  -0.4837818390866617  |  -0.31305437011852094  |   -0.471122872662869  |  0.06966373281377158  |  -0.06966373281377154  | -0.030680290526697327  | 0.0013082779411249157  |  0.05106876646629391  |  0.08776046198379686  |  -0.08776046198379685 |  0.11547000053917204  |  -0.11547000053917204 | 0.0016531535744009937  | -0.0016531535744009937 |  0.021806761460148406 | -0.021806761460148417 |\n",
            "|    reason_home    |  0.03663601443989636   |  0.01773713833856954  |  -0.12614015487596816 | -0.011814305249554997  |  -0.08084362448597057  |  -0.05541468881645946 |  0.06017778988365213   |  0.017771499445582147 |  0.051549975822301225 |  0.04039912702702383  | -0.059170537924790975 |  0.059170537924790975 |   0.1377604493566948  |  -0.1377604493566948  |  -0.1614313178336156   |   0.1614313178336159  |  -0.07226750783693761  |  -0.02832281343060666  |  0.08073209436871594   |  -0.02004609337183763  |  0.017174566125957327 |  -0.02449795138717233 |  -0.04525871147466356 |  0.06471773356291136  |  -0.03726780121444573  | -0.004248528283658458  |  -0.4837818390866617   |   1.001543209876544   |  -0.19313285681265321  |  -0.2906501713191727  | -0.052576178591150186 |   0.0525761785911502   |  -0.01838163284723783  |  0.004322679491437626  |  0.023937845590520954 |  -0.04572727178087613 |  0.04572727178087613  |  -0.06658383129004479 |  0.06658383129004479  | -0.062472524392418044  |  0.06247252439241804   |  0.02409869671131093  | -0.024098696711310888 |\n",
            "|    reason_other   | -0.034908708295380814  | -0.027169220844854562 |  0.05953139026552958  |  -0.08896992786152332  | 0.00020436136382736325 |  -0.03265599481813034 |  0.12141171482519855   |  0.060528445553026514 |  -0.09087833573220587 |  -0.09628382402230148 |  -0.03486932474272131 |  0.03486932474272131  |  -0.20553718795063353 |  0.20553718795063353  |  0.08704430548292963   |  -0.08704430548292975 |  0.060811356677344025  |  0.03144757963273818   |  -0.04641288440223654  | -0.0010603817756135567 | -0.031099334217714776 | -0.033144559285912395 |   0.0650711300210976  |  -0.08639077114487018 |  0.07582219926527554   |  0.021599675656014727  |  -0.31305437011852094  |  -0.19313285681265321 |   1.0015432098765435   |  -0.1880792104121636  | -0.007317533589582934 |  0.007317533589582719  |  0.023456042254164755  |  0.016340521677218774  |  -0.07167467891735382 |  0.05332573098538431  |  -0.0533257309853843  |  0.04940252620680132  |  -0.04940252620680132 |  -0.03459777263972953  |  0.03459777263972953   | -0.002473631723579362 |  0.002473631723579359 |\n",
            "| reason_reputation |  0.13270616317720807   |  0.08520748395114729  |  -0.07617497456842527 |  0.17929936679025246   |  -0.11135611145390639  |  -0.00985399022876968 |  -0.0919841191039219   | -0.026405233272876284 |  0.17771473659381737  |  0.18604271490229377  |  0.027331187217670878 | -0.027331187217670878 |  0.16253214180116243  |  -0.16253214180116243 |  0.012901631165908332  | -0.012901631165908327 |  -0.12609315441307892  |   0.1056173714397531   |  0.008768590324380583  |   0.064348593523456    |  -0.02210332600997653 |  -0.06438338846962136 |  0.07918738457867779  |  0.016041022861313727 | -0.015619958070785664  |  0.001102802146177368  |   -0.471122872662869   |  -0.2906501713191727  |  -0.1880792104121636   |   1.0015432098765467  |  -0.02452017344009082 |  0.024520173440090824  |  0.03761430713865648   |  -0.01833429338363241  |  -0.03112838770548912 |  -0.09908910789036435 |  0.09908910789036435  |  -0.10813207080309017 |  0.10813207080309017  |  0.08762657111420408   |  -0.08762657111420408  |  -0.04868931089115489 |  0.04868931089115488  |\n",
            "|    schoolsup_no   |  0.022202706697821702  |  -0.02360795428382405 |  0.04487643223134206  |  -0.08945390118472035  | 0.0007465609978525739  |  0.015634598048525548 |  0.028119593599562946  |  0.09842634207105305  |   0.0718897114017887  |  0.056711016920825745 |  -0.11137404193796145 |  0.11137404193796145  |  -0.1235298661242324  |   0.1235298661242324  |  0.017983509375604435  |  -0.01798350937560444 |  0.014212403810328119  |  0.05832474211063426   |  -0.04085132714239832  |  -0.04643223679044207  |  0.05685921370283966  | -0.012276025417600443 |  -0.07059010001244523 |  0.014770026510900047 |  0.055781538783129955  |  -0.07106073710118321  |  0.06966373281377158   | -0.052576178591150186 | -0.007317533589582934  |  -0.02452017344009082 |   1.0015432098765378  |  -1.0015432098765378   |  -0.03524701386695064  |  0.01841833765121839   |  0.026839810560034125 |  0.08548707629260374  |  -0.08548707629260373 |  -0.02598205111400056 |  0.02598205111400056  |  0.04057434738738118   |  -0.04057434738738118  |  0.017873055155257795 | -0.017873055155257778 |\n",
            "|   schoolsup_yes   |  -0.02220270669782172  |  0.023607954283824013 |  -0.04487643223134204 |  0.08945390118472034   | -0.0007465609978525656 |  -0.01563459804852559 | -0.028119593599563068  |  -0.09842634207105304 |  -0.0718897114017887  |  -0.05671101692082576 |  0.11137404193796145  |  -0.11137404193796145 |   0.1235298661242324  |  -0.1235298661242324  | -0.017983509375604417  |  0.017983509375604445 | -0.014212403810328112  |  -0.05832474211063428  |  0.04085132714239832   |  0.046432236790442075  | -0.056859213702839716 |  0.01227602541760043  |  0.07059010001244523  | -0.014770026510900052 | -0.055781538783129955  |  0.07106073710118321   |  -0.06966373281377154  |   0.0525761785911502  |  0.007317533589582719  |  0.024520173440090824 |  -1.0015432098765378  |   1.0015432098765378   |  0.035247013866950616  | -0.018418337651218385  | -0.026839810560034115 |  -0.08548707629260373 |  0.08548707629260373  |  0.02598205111400056  |  -0.02598205111400056 |  -0.04057434738738121  |  0.04057434738738121   | -0.017873055155257788 |  0.017873055155257788 |\n",
            "|  guardian_father  | -0.040855388835071525  |  0.08629086787260183  |  0.019484797567410117 |  0.015828464022660048  |  -0.07327776378032891  |  -0.04355536857363826 |  0.035983482188555835  |  0.008764829446913596 |   0.0781186074482548  |  0.058409318419439235 | -0.039114989932366555 |  0.039114989932366555 |   -0.066554153679637  |   0.066554153679637   | -0.0034967348628556845 | 0.0034967348628557257 | -0.025312440801171877  |  0.06507270589116214   |  0.06817726807640187   | -0.018416670327537153  |  -0.10388440310893907 |  0.01623505171607955  |  0.07035488671294089  |  -0.14316392801206135 |  0.09995844014976149   |  0.03991679013218928   | -0.030680290526697327  |  -0.01838163284723783 |  0.023456042254164755  |  0.03761430713865648  |  -0.03524701386695064 |  0.035247013866950616  |   1.001543209876544    |   -0.851881920797527   |  -0.14444905560697585 |  -0.02673358905502296 |  0.02673358905502296  | -0.013748608604399963 |  0.013748608604399963 |  0.06416143035278318   |  -0.06416143035278317  |  0.025806063153780645 | -0.025806063153780638 |\n",
            "|  guardian_mother  |  0.09170319457617329   |  -0.04451832052285719 |  -0.06623254528198036 |  -0.01810420317675082  |  -0.05661430003995939  |  0.02238344132326605  |  -0.0932078278978694   | -0.006819611850274548 | -0.005627529598393495 | 0.0018536730343411754 |  0.030754898139666684 | -0.030754898139666684 |  0.05267150913439702  |  -0.05267150913439702 | -0.015488103848468916  |  0.015488103848469053 | -0.005362023423885843  |  -0.0341575052119669   |  -0.10937369697089798  |  0.06339122595446653   |  0.12367856386866656  |  -0.03350588269269878 |  -0.03874148906353327 |   0.0863965103756971  | -0.059348539337083284  | -0.0035173317973247733 | 0.0013082779411249157  |  0.004322679491437626 |  0.016340521677218774  |  -0.01833429338363241 |  0.01841833765121839  | -0.018418337651218385  |   -0.851881920797527   |   1.001543209876542    |  -0.39830399555025436 |  -0.0806486830087579  |  0.08064868300875791  |  0.02502866908099867  |  -0.02502866908099867 | -0.037701185445742885  |  0.037701185445742885  |  -0.07402849639559278 |  0.07402849639559282  |\n",
            "|   guardian_other  |  -0.10127883210478567  |  -0.06678680248613403 |   0.0906365019891995  |  0.006450331647162915  |  0.23438839788021765   |  0.033874784175193136 |  0.11261062944081761   | -0.002459943425447792 |  -0.12571083593426413 |  -0.10540007438321061 |  0.010374239517376063 | -0.010374239517376063 |  0.017008111732299377 | -0.017008111732299377 |  0.035245864612150034  |  -0.03524586461214995 |  0.05425486921370512   | -0.049262099126725085  |  0.08685946477347205   |  -0.08715349433120462  |   -0.051476300012724  |  0.03472309390478103  |  -0.04985245854845307 |   0.087213823381703   |  -0.06272700450987688  |  -0.0630276105425671   |  0.05106876646629391   |  0.023937845590520954 |  -0.07167467891735382  |  -0.03112838770548912 |  0.026839810560034125 | -0.026839810560034115  |  -0.14444905560697585  |  -0.39830399555025436  |   1.0015432098765453  |  0.19840544458286954  |  -0.19840544458286963 | -0.023109381178901312 |  0.023109381178901312 |  -0.04100378146529057  |  0.04100378146529057   |  0.09427729143691502  |  -0.09427729143691502 |\n",
            "|     higher_no     |  -0.21422640563313086  |  -0.19203128293239896 |  0.07206952470314101  |  -0.18854624978412643  |   0.3098776802688924   |  0.10277587034091674  |  0.13186572470659078   |  0.08445687470324614  |  -0.34956874015949446 |  -0.33246525977403607 |  -0.05822358074912896 |  0.05822358074912896  |  -0.1363224099356729  |   0.1363224099356729  |   0.0768244503667632   |  -0.07682445036676297 |   0.1559983672313164   |  -0.09762557890711404  |  0.026292323270776484  | -0.042551939259106365  |  -0.10608651871297718 |   0.092278902384059   |  -0.0391365827883749  |  0.020013107633622185 | -0.025045534807133053  |  -0.0618423137422614   |  0.08776046198379686   |  -0.04572727178087613 |  0.05332573098538431   |  -0.09908910789036435 |  0.08548707629260374  |  -0.08548707629260373  |  -0.02673358905502296  |  -0.0806486830087579   |  0.19840544458286954  |   1.0015432098765442  |  -1.0015432098765442  |  0.07045353396900227  |  -0.07045353396900227 |  0.024149428819433664  | -0.024149428819433674  |  0.04267046198014346  | -0.042670461980143425 |\n",
            "|     higher_yes    |  0.21422640563313086   |  0.19203128293239896  |  -0.07206952470314101 |  0.18854624978412649   |  -0.30987768026889245  |  -0.10277587034091673 |  -0.13186572470659075  |  -0.08445687470324614 |   0.3495687401594945  |  0.33246525977403607  |  0.058223580749128985 | -0.058223580749128985 |   0.1363224099356729  |  -0.1363224099356729  |  -0.07682445036676323  |  0.07682445036676298  |  -0.15599836723131644  |  0.09762557890711404   |  -0.02629232327077647  |  0.04255193925910637   |  0.10608651871297718  |  -0.09227890238405903 |   0.0391365827883749  | -0.020013107633622188 |  0.025045534807133087  |  0.061842313742261436  |  -0.08776046198379685  |  0.04572727178087613  |  -0.0533257309853843   |  0.09908910789036435  |  -0.08548707629260373 |  0.08548707629260373   |  0.02673358905502296   |  0.08064868300875791   |  -0.19840544458286963 |  -1.0015432098765442  |   1.0015432098765442  |  -0.07045353396900227 |  0.07045353396900227  |  -0.02414942881943366  |  0.024149428819433667  |  -0.04267046198014346 |  0.04267046198014343  |\n",
            "|    internet_no    |  -0.26646287261362617  |  -0.18376582379009165 |  0.19112095564422074  |  -0.03758645551903902  |  0.09547689119163924   |  -0.06336560720429266 |  -0.0428772624187176   |  -0.0607445059288053  |  -0.14014645489658376 |  -0.1481375526560136  |  0.06601260625755682  |  -0.06601260625755682 |  -0.2408570530937725  |   0.2408570530937725  |   0.1760654259151145   |  -0.1760654259151145  |  0.23926732887865046   |  -0.08607841892046975  |  0.06695994747770621   |  -0.1493490193288693   |  -0.14829717333604886 |  0.10730327768248633  | -0.006939853590691266 | -0.002860944944479314 |  -0.04978133424121829  | -0.005998945060450974  |  0.11547000053917204   |  -0.06658383129004479 |  0.04940252620680132   |  -0.10813207080309017 |  -0.02598205111400056 |  0.02598205111400056   | -0.013748608604399963  |  0.02502866908099867   | -0.023109381178901312 |  0.07045353396900227  |  -0.07045353396900227 |   1.0015432098765413  |  -1.0015432098765413  |  0.03187237193464585   |  -0.03187237193464591  | -0.007170520120320199 |  0.007170520120320199 |\n",
            "|    internet_yes   |  0.26646287261362617   |  0.18376582379009165  |  -0.19112095564422074 |  0.03758645551903902   |  -0.09547689119163924  |  0.06336560720429266  |   0.0428772624187176   |   0.0607445059288053  |  0.14014645489658376  |   0.1481375526560136  |  -0.06601260625755682 |  0.06601260625755682  |   0.2408570530937725  |  -0.2408570530937725  |  -0.1760654259151145   |   0.1760654259151145  |  -0.23926732887865046  |  0.08607841892046975   |  -0.06695994747770621  |   0.1493490193288693   |  0.14829717333604886  |  -0.10730327768248633 |  0.006939853590691266 |  0.002860944944479314 |  0.04978133424121829   |  0.005998945060450974  |  -0.11547000053917204  |  0.06658383129004479  |  -0.04940252620680132  |  0.10813207080309017  |  0.02598205111400056  |  -0.02598205111400056  |  0.013748608604399963  |  -0.02502866908099867  |  0.023109381178901312 |  -0.07045353396900227 |  0.07045353396900227  |  -1.0015432098765413  |   1.0015432098765413  |  -0.03187237193464585  |  0.03187237193464591   |  0.007170520120320199 | -0.007170520120320199 |\n",
            "|      paid_no      |  -0.11414872619265856  |  -0.09477409759954827 |   0.0449116106569668  |  0.002317621142333108  |  -0.06952284491813349  |  0.049650777911224776 |  -0.05206590312343801  | -0.035736638811838924 |  0.06288044211093922  |   0.0339775031265542  |  0.07942222939311253  |  -0.07942222939311253 | -0.007917524516921418 |  0.007917524516921418 | -0.030530070730643205  |  0.030530070730643215 | 0.0017994794288637068  | -0.0028673181158817814 |  0.03322213996215285   |  -0.04511078678392228  |  0.006753893001494025 | -0.012566431221387942 |  0.013420635033216752 | -0.012393194190580136 | -0.0017848439148862479 |  0.033001823243335726  | 0.0016531535744009937  | -0.062472524392418044 |  -0.03459777263972953  |  0.08762657111420408  |  0.04057434738738118  |  -0.04057434738738121  |  0.06416143035278318   | -0.037701185445742885  |  -0.04100378146529057 |  0.024149428819433664 |  -0.02414942881943366 |  0.03187237193464585  |  -0.03187237193464585 |   1.0015432098765407   |  -1.0015432098765407   |  0.027609018232812928 |  -0.02760901823281332 |\n",
            "|      paid_yes     |  0.11414872619265856   |  0.09477409759954827  | -0.044911610656966854 | -0.0023176211423331055 |  0.06952284491813347   |  -0.0496507779112248  |  0.052065903123437986  |  0.03573663881183894  |  -0.06288044211093922 |  -0.0339775031265542  |  -0.07942222939311257 |  0.07942222939311257  |  0.007917524516921445 | -0.007917524516921445 |  0.030530070730643198  | -0.030530070730643215 | -0.0017994794288637053 | 0.0028673181158818005  |  -0.03322213996215282  |  0.04511078678392228   | -0.006753893001494025 |  0.012566431221387937 |  -0.01342063503321673 |  0.012393194190580123 | 0.0017848439148862437  |  -0.03300182324333573  | -0.0016531535744009937 |  0.06247252439241804  |  0.03459777263972953   |  -0.08762657111420408 |  -0.04057434738738118 |  0.04057434738738121   |  -0.06416143035278317  |  0.037701185445742885  |  0.04100378146529057  | -0.024149428819433674 |  0.024149428819433667 |  -0.03187237193464591 |  0.03187237193464591  |  -1.0015432098765407   |   1.0015432098765407   |  -0.02760901823281293 |  0.027609018232812928 |\n",
            "|     nursery_no    |  -0.1261456950969171   |  -0.07497817273498668 |  0.011527035859300169 |  -0.04269558740310263  |  0.06934807775273039   | 0.0071065278629651426 |  0.07849733540598026   |   0.0758653605034614  | -0.031219661910701565 | -0.039928857918639905 | -0.043670052288843776 |  0.043670052288843776 |  0.004666211085338792 | -0.004666211085338792 |  0.01810483746806274   | -0.018104837468062802 |  0.003577697968023637  |  -0.03655773847517437  |  0.08808942005132975   | -0.026899436173040914  |  -0.07656841581294485 |  -0.03599772520400775 | -0.053201587398486065 |  0.020482437439150618 |  0.011260050529941593  |  0.015246747355335353  |  0.021806761460148406  |  0.02409869671131093  | -0.002473631723579362  |  -0.04868931089115489 |  0.017873055155257795 | -0.017873055155257788  |  0.025806063153780645  |  -0.07402849639559278  |  0.09427729143691502  |  0.04267046198014346  |  -0.04267046198014346 | -0.007170520120320199 |  0.007170520120320199 |  0.027609018232812928  |  -0.02760901823281293  |   1.001543209876547   |   -1.001543209876547  |\n",
            "|    nursery_yes    |   0.126145695096917    |  0.07497817273498668  | -0.011527035859300202 |  0.042695587403102586  |  -0.06934807775273039  | -0.007106527862965152 |  -0.07849733540598028  |  -0.0758653605034614  |  0.031219661910701545 |  0.03992885791863993  |  0.043670052288843776 | -0.043670052288843776 | -0.004666211085338784 |  0.004666211085338784 | -0.018104837468062754  |  0.01810483746806281  |  -0.00357769796802356  |  0.03655773847517437   |  -0.08808942005132976  |  0.02689943617304093   |  0.07656841581294484  |  0.03599772520400774  |  0.05320158739848604  | -0.020482437439150895 | -0.011260050529941593  | -0.015246747355335353  | -0.021806761460148417  | -0.024098696711310888 |  0.002473631723579359  |  0.04868931089115488  | -0.017873055155257778 |  0.017873055155257788  | -0.025806063153780638  |  0.07402849639559282   |  -0.09427729143691502 | -0.042670461980143425 |  0.04267046198014343  |  0.007170520120320199 | -0.007170520120320199 |  -0.02760901823281332  |  0.027609018232812928  |   -1.001543209876547  |   1.001543209876547   |\n",
            "+-------------------+------------------------+-----------------------+-----------------------+------------------------+------------------------+-----------------------+------------------------+-----------------------+-----------------------+-----------------------+-----------------------+-----------------------+-----------------------+-----------------------+------------------------+-----------------------+------------------------+------------------------+------------------------+------------------------+-----------------------+-----------------------+-----------------------+-----------------------+------------------------+------------------------+------------------------+-----------------------+------------------------+-----------------------+-----------------------+------------------------+------------------------+------------------------+-----------------------+-----------------------+-----------------------+-----------------------+-----------------------+------------------------+------------------------+-----------------------+-----------------------+\n"
          ]
        }
      ]
    },
    {
      "cell_type": "markdown",
      "source": [
        "### Apply PCA"
      ],
      "metadata": {
        "id": "QzPPKiIVsCsR"
      }
    },
    {
      "cell_type": "code",
      "source": [
        "#eigen values and eigen vectors\n",
        "eigen_values , eigen_vectors = np.linalg.eigh(cov_matrix)"
      ],
      "metadata": {
        "id": "CgPElLi9r8k7"
      },
      "execution_count": null,
      "outputs": []
    },
    {
      "cell_type": "code",
      "source": [
        "eigen_values"
      ],
      "metadata": {
        "colab": {
          "base_uri": "https://localhost:8080/"
        },
        "id": "0cC4nwDDsSGT",
        "outputId": "ef2aca8c-191a-4fdb-ee53-8c4ba932b889"
      },
      "execution_count": null,
      "outputs": [
        {
          "output_type": "execute_result",
          "data": {
            "text/plain": [
              "array([-7.06664195e-16, -5.81070069e-16, -2.03610880e-16, -9.01136610e-17,\n",
              "       -5.69646794e-17,  1.12773782e-17,  1.84268151e-17,  1.37540114e-16,\n",
              "        3.14015347e-16,  3.93629405e-16,  7.79635803e-16,  2.44481609e-15,\n",
              "        1.31406695e-01,  2.38439529e-01,  3.59742995e-01,  5.51753145e-01,\n",
              "        6.42679237e-01,  6.72107988e-01,  7.13550041e-01,  7.45730699e-01,\n",
              "        8.43888430e-01,  8.89339877e-01,  9.07994084e-01,  9.38191363e-01,\n",
              "        9.89611672e-01,  1.04905558e+00,  1.09282805e+00,  1.12393744e+00,\n",
              "        1.15367431e+00,  1.27473652e+00,  1.34631477e+00,  1.46003485e+00,\n",
              "        1.49209678e+00,  1.69466340e+00,  1.74925582e+00,  1.84231692e+00,\n",
              "        1.87196068e+00,  2.10657861e+00,  2.15563430e+00,  2.28465079e+00,\n",
              "        2.50477927e+00,  3.18493984e+00,  5.05446436e+00])"
            ]
          },
          "metadata": {},
          "execution_count": 1054
        }
      ]
    },
    {
      "cell_type": "code",
      "source": [
        "eigen_vectors\n",
        "\n",
        "#Each column in the Eigen vector-matrix corresponds to a principal component"
      ],
      "metadata": {
        "colab": {
          "base_uri": "https://localhost:8080/"
        },
        "id": "fjM4s1Z_sTFO",
        "outputId": "aee952ad-6b0a-469e-d79c-35e0647ae72c"
      },
      "execution_count": null,
      "outputs": [
        {
          "output_type": "execute_result",
          "data": {
            "text/plain": [
              "array([[ 0.00000000e+00,  0.00000000e+00,  0.00000000e+00, ...,\n",
              "        -1.94388087e-01,  1.24407984e-01, -2.81918951e-01],\n",
              "       [ 7.30507219e-17, -6.92059470e-17,  1.02527329e-17, ...,\n",
              "        -2.05390029e-01,  1.07323621e-01, -2.37155675e-01],\n",
              "       [ 5.17644836e-17,  3.03808781e-16, -1.23502381e-17, ...,\n",
              "        -8.92251168e-02, -4.14370704e-02,  1.94962916e-01],\n",
              "       ...,\n",
              "       [ 1.13637615e-01, -2.02949880e-01,  5.19669407e-01, ...,\n",
              "        -7.81158432e-02,  1.18829377e-01, -9.85476544e-03],\n",
              "       [ 7.43220506e-02, -7.20278230e-02,  1.81075930e-01, ...,\n",
              "         2.41259016e-01,  8.51348409e-02,  5.57242511e-02],\n",
              "       [ 7.43220506e-02, -7.20278230e-02,  1.81075930e-01, ...,\n",
              "        -2.41259016e-01, -8.51348409e-02, -5.57242511e-02]])"
            ]
          },
          "metadata": {},
          "execution_count": 1055
        }
      ]
    },
    {
      "cell_type": "code",
      "source": [
        "#Sorted Eigen Values and Eigen Vectors\n",
        "sorted_index = np.argsort(eigen_values)[::-1]\n",
        "sorted_eigenvalue = eigen_values[sorted_index]\n",
        "sorted_eigenvectors = eigen_vectors[:,sorted_index]"
      ],
      "metadata": {
        "id": "ua0Aq8u3sW6d"
      },
      "execution_count": null,
      "outputs": []
    },
    {
      "cell_type": "code",
      "source": [
        "sorted_eigenvalue"
      ],
      "metadata": {
        "colab": {
          "base_uri": "https://localhost:8080/"
        },
        "id": "WTnHRCA4sv18",
        "outputId": "d0cdba9d-3fed-48b0-8190-99de98480fb0"
      },
      "execution_count": null,
      "outputs": [
        {
          "output_type": "execute_result",
          "data": {
            "text/plain": [
              "array([ 5.05446436e+00,  3.18493984e+00,  2.50477927e+00,  2.28465079e+00,\n",
              "        2.15563430e+00,  2.10657861e+00,  1.87196068e+00,  1.84231692e+00,\n",
              "        1.74925582e+00,  1.69466340e+00,  1.49209678e+00,  1.46003485e+00,\n",
              "        1.34631477e+00,  1.27473652e+00,  1.15367431e+00,  1.12393744e+00,\n",
              "        1.09282805e+00,  1.04905558e+00,  9.89611672e-01,  9.38191363e-01,\n",
              "        9.07994084e-01,  8.89339877e-01,  8.43888430e-01,  7.45730699e-01,\n",
              "        7.13550041e-01,  6.72107988e-01,  6.42679237e-01,  5.51753145e-01,\n",
              "        3.59742995e-01,  2.38439529e-01,  1.31406695e-01,  2.44481609e-15,\n",
              "        7.79635803e-16,  3.93629405e-16,  3.14015347e-16,  1.37540114e-16,\n",
              "        1.84268151e-17,  1.12773782e-17, -5.69646794e-17, -9.01136610e-17,\n",
              "       -2.03610880e-16, -5.81070069e-16, -7.06664195e-16])"
            ]
          },
          "metadata": {},
          "execution_count": 1057
        }
      ]
    },
    {
      "cell_type": "code",
      "source": [
        "sorted_eigenvectors"
      ],
      "metadata": {
        "colab": {
          "base_uri": "https://localhost:8080/"
        },
        "id": "VLZ46wXIsxzb",
        "outputId": "2350f5fa-5ba1-4143-c70c-d8c9e64bced7"
      },
      "execution_count": null,
      "outputs": [
        {
          "output_type": "execute_result",
          "data": {
            "text/plain": [
              "array([[-2.81918951e-01,  1.24407984e-01, -1.94388087e-01, ...,\n",
              "         0.00000000e+00,  0.00000000e+00,  0.00000000e+00],\n",
              "       [-2.37155675e-01,  1.07323621e-01, -2.05390029e-01, ...,\n",
              "         1.02527329e-17, -6.92059470e-17,  7.30507219e-17],\n",
              "       [ 1.94962916e-01, -4.14370704e-02, -8.92251168e-02, ...,\n",
              "        -1.23502381e-17,  3.03808781e-16,  5.17644836e-17],\n",
              "       ...,\n",
              "       [-9.85476544e-03,  1.18829377e-01, -7.81158432e-02, ...,\n",
              "         5.19669407e-01, -2.02949880e-01,  1.13637615e-01],\n",
              "       [ 5.57242511e-02,  8.51348409e-02,  2.41259016e-01, ...,\n",
              "         1.81075930e-01, -7.20278230e-02,  7.43220506e-02],\n",
              "       [-5.57242511e-02, -8.51348409e-02, -2.41259016e-01, ...,\n",
              "         1.81075930e-01, -7.20278230e-02,  7.43220506e-02]])"
            ]
          },
          "metadata": {},
          "execution_count": 1058
        }
      ]
    },
    {
      "cell_type": "code",
      "source": [
        "#Selecting a subset from the rearranged Eigenvalue matrix\n",
        "num_components = 2\n",
        "eigenvector_subset = sorted_eigenvectors[:,0:num_components]\n",
        "X_reduced = np.dot(eigenvector_subset.transpose() , X.transpose() ).transpose()\n",
        "X_reduced"
      ],
      "metadata": {
        "colab": {
          "base_uri": "https://localhost:8080/"
        },
        "id": "uOIy5R9qs2jq",
        "outputId": "e532be5e-d6b8-4aba-fa11-f9fecde73951"
      },
      "execution_count": null,
      "outputs": [
        {
          "output_type": "execute_result",
          "data": {
            "text/plain": [
              "array([[ 0.14192562, -1.87486426],\n",
              "       [ 0.56273088, -1.01334948],\n",
              "       [-0.39069739, -1.60692478],\n",
              "       ...,\n",
              "       [ 1.91988995, -3.1290889 ],\n",
              "       [ 1.0983419 ,  3.05481225],\n",
              "       [ 2.13253018,  2.27285573]])"
            ]
          },
          "metadata": {},
          "execution_count": 1059
        }
      ]
    },
    {
      "cell_type": "code",
      "source": [
        "principal_data =  pd.DataFrame(X_reduced, columns=['PC1', 'PC2'])\n",
        "principal_data = pd.concat([principal_data, df['G3']], axis=1)\n",
        "principal_data"
      ],
      "metadata": {
        "colab": {
          "base_uri": "https://localhost:8080/",
          "height": 424
        },
        "id": "qm9x-FV0wXbW",
        "outputId": "ea1df564-b5f9-442a-d851-094e5b924059"
      },
      "execution_count": null,
      "outputs": [
        {
          "output_type": "execute_result",
          "data": {
            "text/html": [
              "\n",
              "  <div id=\"df-0085fa62-9fef-4bcb-aa47-d26e2559a89c\">\n",
              "    <div class=\"colab-df-container\">\n",
              "      <div>\n",
              "<style scoped>\n",
              "    .dataframe tbody tr th:only-of-type {\n",
              "        vertical-align: middle;\n",
              "    }\n",
              "\n",
              "    .dataframe tbody tr th {\n",
              "        vertical-align: top;\n",
              "    }\n",
              "\n",
              "    .dataframe thead th {\n",
              "        text-align: right;\n",
              "    }\n",
              "</style>\n",
              "<table border=\"1\" class=\"dataframe\">\n",
              "  <thead>\n",
              "    <tr style=\"text-align: right;\">\n",
              "      <th></th>\n",
              "      <th>PC1</th>\n",
              "      <th>PC2</th>\n",
              "      <th>G3</th>\n",
              "    </tr>\n",
              "  </thead>\n",
              "  <tbody>\n",
              "    <tr>\n",
              "      <th>0</th>\n",
              "      <td>0.141926</td>\n",
              "      <td>-1.874864</td>\n",
              "      <td>11</td>\n",
              "    </tr>\n",
              "    <tr>\n",
              "      <th>1</th>\n",
              "      <td>0.562731</td>\n",
              "      <td>-1.013349</td>\n",
              "      <td>11</td>\n",
              "    </tr>\n",
              "    <tr>\n",
              "      <th>2</th>\n",
              "      <td>-0.390697</td>\n",
              "      <td>-1.606925</td>\n",
              "      <td>12</td>\n",
              "    </tr>\n",
              "    <tr>\n",
              "      <th>3</th>\n",
              "      <td>-3.135735</td>\n",
              "      <td>-0.979588</td>\n",
              "      <td>14</td>\n",
              "    </tr>\n",
              "    <tr>\n",
              "      <th>4</th>\n",
              "      <td>-0.783256</td>\n",
              "      <td>-1.598609</td>\n",
              "      <td>13</td>\n",
              "    </tr>\n",
              "    <tr>\n",
              "      <th>...</th>\n",
              "      <td>...</td>\n",
              "      <td>...</td>\n",
              "      <td>...</td>\n",
              "    </tr>\n",
              "    <tr>\n",
              "      <th>644</th>\n",
              "      <td>1.416095</td>\n",
              "      <td>-0.695756</td>\n",
              "      <td>10</td>\n",
              "    </tr>\n",
              "    <tr>\n",
              "      <th>645</th>\n",
              "      <td>-1.149299</td>\n",
              "      <td>-1.302496</td>\n",
              "      <td>16</td>\n",
              "    </tr>\n",
              "    <tr>\n",
              "      <th>646</th>\n",
              "      <td>1.919890</td>\n",
              "      <td>-3.129089</td>\n",
              "      <td>9</td>\n",
              "    </tr>\n",
              "    <tr>\n",
              "      <th>647</th>\n",
              "      <td>1.098342</td>\n",
              "      <td>3.054812</td>\n",
              "      <td>10</td>\n",
              "    </tr>\n",
              "    <tr>\n",
              "      <th>648</th>\n",
              "      <td>2.132530</td>\n",
              "      <td>2.272856</td>\n",
              "      <td>11</td>\n",
              "    </tr>\n",
              "  </tbody>\n",
              "</table>\n",
              "<p>649 rows × 3 columns</p>\n",
              "</div>\n",
              "      <button class=\"colab-df-convert\" onclick=\"convertToInteractive('df-0085fa62-9fef-4bcb-aa47-d26e2559a89c')\"\n",
              "              title=\"Convert this dataframe to an interactive table.\"\n",
              "              style=\"display:none;\">\n",
              "        \n",
              "  <svg xmlns=\"http://www.w3.org/2000/svg\" height=\"24px\"viewBox=\"0 0 24 24\"\n",
              "       width=\"24px\">\n",
              "    <path d=\"M0 0h24v24H0V0z\" fill=\"none\"/>\n",
              "    <path d=\"M18.56 5.44l.94 2.06.94-2.06 2.06-.94-2.06-.94-.94-2.06-.94 2.06-2.06.94zm-11 1L8.5 8.5l.94-2.06 2.06-.94-2.06-.94L8.5 2.5l-.94 2.06-2.06.94zm10 10l.94 2.06.94-2.06 2.06-.94-2.06-.94-.94-2.06-.94 2.06-2.06.94z\"/><path d=\"M17.41 7.96l-1.37-1.37c-.4-.4-.92-.59-1.43-.59-.52 0-1.04.2-1.43.59L10.3 9.45l-7.72 7.72c-.78.78-.78 2.05 0 2.83L4 21.41c.39.39.9.59 1.41.59.51 0 1.02-.2 1.41-.59l7.78-7.78 2.81-2.81c.8-.78.8-2.07 0-2.86zM5.41 20L4 18.59l7.72-7.72 1.47 1.35L5.41 20z\"/>\n",
              "  </svg>\n",
              "      </button>\n",
              "      \n",
              "  <style>\n",
              "    .colab-df-container {\n",
              "      display:flex;\n",
              "      flex-wrap:wrap;\n",
              "      gap: 12px;\n",
              "    }\n",
              "\n",
              "    .colab-df-convert {\n",
              "      background-color: #E8F0FE;\n",
              "      border: none;\n",
              "      border-radius: 50%;\n",
              "      cursor: pointer;\n",
              "      display: none;\n",
              "      fill: #1967D2;\n",
              "      height: 32px;\n",
              "      padding: 0 0 0 0;\n",
              "      width: 32px;\n",
              "    }\n",
              "\n",
              "    .colab-df-convert:hover {\n",
              "      background-color: #E2EBFA;\n",
              "      box-shadow: 0px 1px 2px rgba(60, 64, 67, 0.3), 0px 1px 3px 1px rgba(60, 64, 67, 0.15);\n",
              "      fill: #174EA6;\n",
              "    }\n",
              "\n",
              "    [theme=dark] .colab-df-convert {\n",
              "      background-color: #3B4455;\n",
              "      fill: #D2E3FC;\n",
              "    }\n",
              "\n",
              "    [theme=dark] .colab-df-convert:hover {\n",
              "      background-color: #434B5C;\n",
              "      box-shadow: 0px 1px 3px 1px rgba(0, 0, 0, 0.15);\n",
              "      filter: drop-shadow(0px 1px 2px rgba(0, 0, 0, 0.3));\n",
              "      fill: #FFFFFF;\n",
              "    }\n",
              "  </style>\n",
              "\n",
              "      <script>\n",
              "        const buttonEl =\n",
              "          document.querySelector('#df-0085fa62-9fef-4bcb-aa47-d26e2559a89c button.colab-df-convert');\n",
              "        buttonEl.style.display =\n",
              "          google.colab.kernel.accessAllowed ? 'block' : 'none';\n",
              "\n",
              "        async function convertToInteractive(key) {\n",
              "          const element = document.querySelector('#df-0085fa62-9fef-4bcb-aa47-d26e2559a89c');\n",
              "          const dataTable =\n",
              "            await google.colab.kernel.invokeFunction('convertToInteractive',\n",
              "                                                     [key], {});\n",
              "          if (!dataTable) return;\n",
              "\n",
              "          const docLinkHtml = 'Like what you see? Visit the ' +\n",
              "            '<a target=\"_blank\" href=https://colab.research.google.com/notebooks/data_table.ipynb>data table notebook</a>'\n",
              "            + ' to learn more about interactive tables.';\n",
              "          element.innerHTML = '';\n",
              "          dataTable['output_type'] = 'display_data';\n",
              "          await google.colab.output.renderOutput(dataTable, element);\n",
              "          const docLink = document.createElement('div');\n",
              "          docLink.innerHTML = docLinkHtml;\n",
              "          element.appendChild(docLink);\n",
              "        }\n",
              "      </script>\n",
              "    </div>\n",
              "  </div>\n",
              "  "
            ],
            "text/plain": [
              "          PC1       PC2  G3\n",
              "0    0.141926 -1.874864  11\n",
              "1    0.562731 -1.013349  11\n",
              "2   -0.390697 -1.606925  12\n",
              "3   -3.135735 -0.979588  14\n",
              "4   -0.783256 -1.598609  13\n",
              "..        ...       ...  ..\n",
              "644  1.416095 -0.695756  10\n",
              "645 -1.149299 -1.302496  16\n",
              "646  1.919890 -3.129089   9\n",
              "647  1.098342  3.054812  10\n",
              "648  2.132530  2.272856  11\n",
              "\n",
              "[649 rows x 3 columns]"
            ]
          },
          "metadata": {},
          "execution_count": 1060
        }
      ]
    },
    {
      "cell_type": "markdown",
      "source": [
        "###Build the model, summarize it and evaluate the model and Summarize"
      ],
      "metadata": {
        "id": "qrkZcSk5wtE9"
      }
    },
    {
      "cell_type": "code",
      "source": [
        "from sklearn.model_selection import train_test_split\n",
        "# Independent attributes\n",
        "X = principal_data.drop(columns='G3')\n",
        "\n",
        "# Dependent attributes\n",
        "Y = principal_data[['G3']]\n",
        "\n",
        "# Splitting dataset into training and testing set\n",
        "X_train, X_test, y_train, y_test = train_test_split(X, Y, test_size=0.20, random_state=80)"
      ],
      "metadata": {
        "id": "FlHYZTf2wpjB"
      },
      "execution_count": null,
      "outputs": []
    },
    {
      "cell_type": "code",
      "source": [
        "# Building Linear Regression model\n",
        "from sklearn.linear_model import LinearRegression\n",
        "from sklearn.metrics import accuracy_score, classification_report, confusion_matrix, mean_squared_error, roc_curve, roc_auc_score, auc, r2_score\n",
        "regressor = LinearRegression()\n",
        "regressor.fit(X_train, y_train)"
      ],
      "metadata": {
        "colab": {
          "base_uri": "https://localhost:8080/"
        },
        "id": "3bshmLe_xEhn",
        "outputId": "00615267-1abb-4d0d-ed73-72a0410520ad"
      },
      "execution_count": null,
      "outputs": [
        {
          "output_type": "execute_result",
          "data": {
            "text/plain": [
              "LinearRegression()"
            ]
          },
          "metadata": {},
          "execution_count": 1062
        }
      ]
    },
    {
      "cell_type": "markdown",
      "source": [
        "### Summarize the model"
      ],
      "metadata": {
        "id": "hR0nmLEr7su0"
      }
    },
    {
      "cell_type": "code",
      "source": [
        "regressor.get_params()"
      ],
      "metadata": {
        "colab": {
          "base_uri": "https://localhost:8080/"
        },
        "id": "dAEeKGwBxe2A",
        "outputId": "76a2478a-b0d3-496c-e089-ee8ce62bc39e"
      },
      "execution_count": null,
      "outputs": [
        {
          "output_type": "execute_result",
          "data": {
            "text/plain": [
              "{'copy_X': True,\n",
              " 'fit_intercept': True,\n",
              " 'n_jobs': None,\n",
              " 'normalize': 'deprecated',\n",
              " 'positive': False}"
            ]
          },
          "metadata": {},
          "execution_count": 1063
        }
      ]
    },
    {
      "cell_type": "markdown",
      "source": [
        "### Prediction"
      ],
      "metadata": {
        "id": "LFuwFS3-7x_A"
      }
    },
    {
      "cell_type": "code",
      "source": [
        "y_pred = regressor.predict(X_test)"
      ],
      "metadata": {
        "id": "KpLmfXPlxpr8"
      },
      "execution_count": null,
      "outputs": []
    },
    {
      "cell_type": "markdown",
      "source": [
        "### Evaluation"
      ],
      "metadata": {
        "id": "pOgq2HvD73QI"
      }
    },
    {
      "cell_type": "code",
      "source": [
        "regressor_score = regressor.score(X_test, y_test)\n",
        "print(\"Score of Linear Regression Model: \", round(regressor_score, 5))"
      ],
      "metadata": {
        "colab": {
          "base_uri": "https://localhost:8080/"
        },
        "id": "3_k7XfY_x0S-",
        "outputId": "cde90186-f2fd-4e99-cb44-24fc79b49650"
      },
      "execution_count": null,
      "outputs": [
        {
          "output_type": "stream",
          "name": "stdout",
          "text": [
            "Score of Linear Regression Model:  0.49427\n"
          ]
        }
      ]
    },
    {
      "cell_type": "code",
      "source": [
        "print(\"Mean Squared Error (MSE): \", round(mean_squared_error(y_test, y_pred), 5))"
      ],
      "metadata": {
        "colab": {
          "base_uri": "https://localhost:8080/"
        },
        "id": "kdCHZwKdyBcs",
        "outputId": "df0ef0b5-97a0-4dc8-cb96-7e7ed78f0464"
      },
      "execution_count": null,
      "outputs": [
        {
          "output_type": "stream",
          "name": "stdout",
          "text": [
            "Mean Squared Error (MSE):  5.99719\n"
          ]
        }
      ]
    },
    {
      "cell_type": "code",
      "source": [
        "print(\"Root Mean Squared Error (RMSE): \", round(math.sqrt(mean_squared_error(y_test, y_pred)),5))"
      ],
      "metadata": {
        "colab": {
          "base_uri": "https://localhost:8080/"
        },
        "id": "RdXDStxRyDXQ",
        "outputId": "ee1f419c-ac1f-4d90-fec5-a479e0ead434"
      },
      "execution_count": null,
      "outputs": [
        {
          "output_type": "stream",
          "name": "stdout",
          "text": [
            "Root Mean Squared Error (RMSE):  2.44892\n"
          ]
        }
      ]
    },
    {
      "cell_type": "markdown",
      "source": [
        "### Conclusion: \n",
        "\n",
        "\n",
        "1.   In this experiment, I implemented dimensionaity reduction technique Principal Component Analysis (PCA) on student performance dataset of a Portuguese schools. \n",
        "2.   I was able to visualize the data and compare the impact of each categorical and numerical feature on the target variable. \n",
        "3. I performed normalization and generated eigen values and eigen vectors. \n",
        "4. I understood how to form principal components and thus implemented it. \n",
        "5. I performed linear regression and got a regression score: 0.49427. I observed that since there are few samples in the dataset, hence the score is less. \n",
        "\n"
      ],
      "metadata": {
        "id": "8SOP4jbI77an"
      }
    }
  ],
  "metadata": {
    "colab": {
      "name": "RishitaMote_Exp2.ipynb",
      "provenance": [],
      "authorship_tag": "ABX9TyOifd2SLB6cFZNYv0Io3Zf1",
      "include_colab_link": true
    },
    "kernelspec": {
      "display_name": "Python 3",
      "name": "python3"
    },
    "language_info": {
      "name": "python"
    }
  },
  "nbformat": 4,
  "nbformat_minor": 0
}